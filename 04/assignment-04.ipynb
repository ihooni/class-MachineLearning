{
  "nbformat": 4,
  "nbformat_minor": 0,
  "metadata": {
    "colab": {
      "name": "assignment-04.ipynb",
      "provenance": [],
      "collapsed_sections": [],
      "toc_visible": true,
      "mount_file_id": "1f1t-H9WVEF-GqB31Bqm4kBxiHUSlrVT4",
      "authorship_tag": "ABX9TyMo4d8uJmnubBiHHLiOH5Yf"
    },
    "kernelspec": {
      "name": "python3",
      "display_name": "Python 3"
    }
  },
  "cells": [
    {
      "cell_type": "markdown",
      "metadata": {
        "id": "lKGLMxPljjIG",
        "colab_type": "text"
      },
      "source": [
        "### 1. Load data from csv file"
      ]
    },
    {
      "cell_type": "code",
      "metadata": {
        "id": "JweUGOsMjjuw",
        "colab_type": "code",
        "colab": {}
      },
      "source": [
        "import numpy as np\n",
        "\n",
        "TRAIN_DATA_PATH = './data_train.csv'\n",
        "TEST_DATA_PATH = './data_test.csv'\n",
        "\n",
        "# load train/test data\n",
        "train_data = np.genfromtxt(TRAIN_DATA_PATH, delimiter=',', dtype=np.str)\n",
        "train_data = np.char.strip(train_data, '\"').astype(np.float64)\n",
        "\n",
        "test_data = np.genfromtxt(TEST_DATA_PATH, delimiter=',', dtype=np.str)\n",
        "test_data = np.char.strip(test_data, '\"').astype(np.float64)\n",
        "\n",
        "# seperate feature and answer\n",
        "x_train = train_data[:, 0:-1]\n",
        "y_train = train_data[:, -1].reshape(-1, 1)\n",
        "\n",
        "x_test = test_data[:, 0:-1]\n",
        "y_test = test_data[:, -1].reshape(-1, 1)"
      ],
      "execution_count": 0,
      "outputs": []
    },
    {
      "cell_type": "markdown",
      "metadata": {
        "id": "LFge0QmNonvG",
        "colab_type": "text"
      },
      "source": [
        "### 2. Define functions for linear regression\n",
        "\n"
      ]
    },
    {
      "cell_type": "code",
      "metadata": {
        "id": "K4RtNi_Fozie",
        "colab_type": "code",
        "colab": {}
      },
      "source": [
        "def linear(theta, x):\n",
        "  m = len(x)\n",
        "  temp_x = np.concatenate((np.ones((m, 1)), x), axis=1)\n",
        "  return np.matmul(temp_x, theta.T)\n",
        "\n",
        "def objective(y_hat, y):\n",
        "  m = len(y)\n",
        "  return (1 / (2 * m)) * np.sum((y_hat - y) ** 2, axis=0)\n",
        "\n",
        "def gradient(x, y_hat, y):\n",
        "  m = len(x)\n",
        "  temp_x = np.concatenate((np.ones((m, 1)), x), axis=1)\n",
        "  return (1 / m) * np.matmul((y_hat - y).T, temp_x)"
      ],
      "execution_count": 0,
      "outputs": []
    },
    {
      "cell_type": "markdown",
      "metadata": {
        "id": "rRBzTa25yhM0",
        "colab_type": "text"
      },
      "source": [
        "### 3. Learning with the gradient descent algorithm\n"
      ]
    },
    {
      "cell_type": "code",
      "metadata": {
        "id": "wh55xIiYyh3y",
        "colab_type": "code",
        "colab": {}
      },
      "source": [
        "# initialize model parameters and learning rate\n",
        "feature_cnt = x_train.shape[1]\n",
        "theta = np.ones((1, feature_cnt + 1))\n",
        "\n",
        "lr = 0.00002\n",
        "epoch_count = 20000\n",
        "\n",
        "history = {\n",
        "    'theta': np.zeros((epoch_count, theta.shape[1])),\n",
        "    'train_err': np.zeros(epoch_count),\n",
        "    'test_err': np.zeros(epoch_count)\n",
        "}\n",
        "\n",
        "for epoch in range(epoch_count):\n",
        "  # calculate training error\n",
        "  y_hat_train = linear(theta, x_train)\n",
        "  train_err = objective(y_hat_train, y_train)\n",
        "\n",
        "  # calculate testing error\n",
        "  y_hat_test = linear(theta, x_test)\n",
        "  test_err = objective(y_hat_test, y_test)\n",
        "\n",
        "  # logging history\n",
        "  history['theta'][epoch] = np.squeeze(theta)\n",
        "  history['train_err'][epoch] = train_err\n",
        "  history['test_err'][epoch] = test_err\n",
        "\n",
        "  # gradient descent using the training dataset\n",
        "  grad_theta = gradient(x_train, y_hat_train, y_train)\n",
        "  theta -= lr * grad_theta"
      ],
      "execution_count": 0,
      "outputs": []
    },
    {
      "cell_type": "markdown",
      "metadata": {
        "id": "hTA57KiNCD3E",
        "colab_type": "text"
      },
      "source": [
        "### 4. Plot the results\n"
      ]
    },
    {
      "cell_type": "markdown",
      "metadata": {
        "id": "e2jQp2uOCEdI",
        "colab_type": "text"
      },
      "source": [
        "4-1. Estimated parameters"
      ]
    },
    {
      "cell_type": "code",
      "metadata": {
        "id": "BYpcrtZDCOLK",
        "colab_type": "code",
        "outputId": "00e63f6a-d46a-45d7-b0bd-fc406879b76e",
        "colab": {
          "base_uri": "https://localhost:8080/",
          "height": 295
        }
      },
      "source": [
        "import matplotlib.pyplot as plt\n",
        "\n",
        "epoch_tick = np.arange(epoch_count)\n",
        "\n",
        "plt.title('Estimated parameters')\n",
        "plt.plot(epoch_tick, history['theta'][:, 0], 'k-')\n",
        "plt.plot(epoch_tick, history['theta'][:, 1], 'r-')\n",
        "plt.plot(epoch_tick, history['theta'][:, 2], 'g-')\n",
        "plt.plot(epoch_tick, history['theta'][:, 3], 'b-')\n",
        "plt.legend(['theta 0', 'theat 1', 'theta 2', 'theta 3'])\n",
        "plt.xlabel('epoch')\n",
        "plt.ylabel('scale')\n",
        "plt.show()"
      ],
      "execution_count": 186,
      "outputs": [
        {
          "output_type": "display_data",
          "data": {
            "image/png": "[encoded data removed]",
            "text/plain": [
              "<Figure size 432x288 with 1 Axes>"
            ]
          },
          "metadata": {
            "tags": []
          }
        }
      ]
    },
    {
      "cell_type": "markdown",
      "metadata": {
        "id": "PELNErMgyH_M",
        "colab_type": "text"
      },
      "source": [
        "4-2. Training error"
      ]
    },
    {
      "cell_type": "code",
      "metadata": {
        "id": "UDNEH_O8yMqr",
        "colab_type": "code",
        "colab": {
          "base_uri": "https://localhost:8080/",
          "height": 295
        },
        "outputId": "6c026826-bb93-49f6-b1f5-3df45cd36af7"
      },
      "source": [
        "plt.title('Training error')\n",
        "plt.plot(epoch_tick, history['train_err'], 'b-')\n",
        "plt.xlabel('epoch')\n",
        "plt.ylabel('error')\n",
        "plt.show()"
      ],
      "execution_count": 187,
      "outputs": [
        {
          "output_type": "display_data",
          "data": {
            "image/png": "[encoded data removed]",
            "text/plain": [
              "<Figure size 432x288 with 1 Axes>"
            ]
          },
          "metadata": {
            "tags": []
          }
        }
      ]
    }
  ]
}