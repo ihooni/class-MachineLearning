{
  "nbformat": 4,
  "nbformat_minor": 0,
  "metadata": {
    "colab": {
      "name": "assignment-04.ipynb",
      "provenance": [],
      "collapsed_sections": [],
      "toc_visible": true,
      "mount_file_id": "1f1t-H9WVEF-GqB31Bqm4kBxiHUSlrVT4",
      "authorship_tag": "ABX9TyNE59IsOBRM86nX9ygGj6Tl"
    },
    "kernelspec": {
      "name": "python3",
      "display_name": "Python 3"
    }
  },
  "cells": [
    {
      "cell_type": "markdown",
      "metadata": {
        "id": "lKGLMxPljjIG",
        "colab_type": "text"
      },
      "source": [
        "### 1. Load data from csv file"
      ]
    },
    {
      "cell_type": "code",
      "metadata": {
        "id": "JweUGOsMjjuw",
        "colab_type": "code",
        "colab": {}
      },
      "source": [
        "import numpy as np\n",
        "\n",
        "TRAIN_DATA_PATH = './data_train.csv'\n",
        "TEST_DATA_PATH = './data_test.csv'\n",
        "\n",
        "# load train/test data\n",
        "train_data = np.genfromtxt(TRAIN_DATA_PATH, delimiter=',', dtype=np.str)\n",
        "train_data = np.char.strip(train_data, '\"').astype(np.float64)\n",
        "\n",
        "test_data = np.genfromtxt(TEST_DATA_PATH, delimiter=',', dtype=np.str)\n",
        "test_data = np.char.strip(test_data, '\"').astype(np.float64)\n",
        "\n",
        "# separate features from answer\n",
        "x_train = train_data[:, 0:-1]\n",
        "y_train = train_data[:, -1].reshape(-1, 1)\n",
        "\n",
        "x_test = test_data[:, 0:-1]\n",
        "y_test = test_data[:, -1].reshape(-1, 1)\n",
        "\n",
        "# save mean and std of train data for converting to original theta\n",
        "x_train_mean = np.mean(x_train, axis=0)\n",
        "y_train_mean = np.mean(y_train, axis=0)\n",
        "x_train_std = np.std(x_train, axis=0)\n",
        "y_train_std = np.std(y_train, axis=0) "
      ],
      "execution_count": 0,
      "outputs": []
    },
    {
      "cell_type": "markdown",
      "metadata": {
        "id": "jC1Z9X2NLSSQ",
        "colab_type": "text"
      },
      "source": [
        "### 2. Data normalization\n"
      ]
    },
    {
      "cell_type": "code",
      "metadata": {
        "id": "rWvK0eZ-LwnW",
        "colab_type": "code",
        "colab": {}
      },
      "source": [
        "def normalize(data):\n",
        "  return (data - np.mean(data, axis=0)) / np.std(data, axis=0)\n",
        "\n",
        "# normalize train/test data\n",
        "x_train = normalize(x_train)\n",
        "y_train = normalize(y_train)\n",
        "\n",
        "x_test = normalize(x_test)\n",
        "y_test = normalize(y_test)"
      ],
      "execution_count": 0,
      "outputs": []
    },
    {
      "cell_type": "markdown",
      "metadata": {
        "id": "LFge0QmNonvG",
        "colab_type": "text"
      },
      "source": [
        "### 3. Define functions for linear regression\n",
        "\n"
      ]
    },
    {
      "cell_type": "code",
      "metadata": {
        "id": "K4RtNi_Fozie",
        "colab_type": "code",
        "colab": {}
      },
      "source": [
        "def linear(theta, x):\n",
        "  m = len(x)\n",
        "  temp_x = np.concatenate((np.ones((m, 1)), x), axis=1)\n",
        "  return np.matmul(temp_x, theta.T)\n",
        "\n",
        "def objective(y_hat, y):\n",
        "  m = len(y)\n",
        "  return (1 / (2 * m)) * np.sum((y_hat - y) ** 2, axis=0)\n",
        "\n",
        "def gradient(x, y_hat, y):\n",
        "  m = len(x)\n",
        "  temp_x = np.concatenate((np.ones((m, 1)), x), axis=1)\n",
        "  return (1 / m) * np.matmul((y_hat - y).T, temp_x)"
      ],
      "execution_count": 0,
      "outputs": []
    },
    {
      "cell_type": "markdown",
      "metadata": {
        "id": "rRBzTa25yhM0",
        "colab_type": "text"
      },
      "source": [
        "### 4. Learning with the gradient descent algorithm\n"
      ]
    },
    {
      "cell_type": "code",
      "metadata": {
        "id": "wh55xIiYyh3y",
        "colab_type": "code",
        "colab": {}
      },
      "source": [
        "# initialize model parameters and learning rate\n",
        "feature_cnt = x_train.shape[1]\n",
        "theta = np.zeros((1, feature_cnt + 1))\n",
        "\n",
        "lr = 0.3\n",
        "epoch_count = 20000\n",
        "\n",
        "history = {\n",
        "    'theta': np.zeros((epoch_count, theta.shape[1])),\n",
        "    'train_err': np.zeros(epoch_count),\n",
        "    'test_err': np.zeros(epoch_count)\n",
        "}\n",
        "\n",
        "for epoch in range(epoch_count):\n",
        "  # calculate training error\n",
        "  y_hat_train = linear(theta, x_train)\n",
        "  train_err = objective(y_hat_train, y_train)\n",
        "\n",
        "  # calculate testing error\n",
        "  y_hat_test = linear(theta, x_test)\n",
        "  test_err = objective(y_hat_test, y_test)\n",
        "\n",
        "  # logging history\n",
        "  history['theta'][epoch] = np.squeeze(theta)\n",
        "  history['train_err'][epoch] = train_err\n",
        "  history['test_err'][epoch] = test_err\n",
        "\n",
        "  # gradient descent using the training dataset\n",
        "  grad_theta = gradient(x_train, y_hat_train, y_train)\n",
        "  theta -= lr * grad_theta"
      ],
      "execution_count": 0,
      "outputs": []
    },
    {
      "cell_type": "markdown",
      "metadata": {
        "id": "hTA57KiNCD3E",
        "colab_type": "text"
      },
      "source": [
        "### 5. Plot the results\n"
      ]
    },
    {
      "cell_type": "markdown",
      "metadata": {
        "id": "e2jQp2uOCEdI",
        "colab_type": "text"
      },
      "source": [
        "5-1. Estimated parameters"
      ]
    },
    {
      "cell_type": "code",
      "metadata": {
        "id": "BYpcrtZDCOLK",
        "colab_type": "code",
        "outputId": "f337cb1d-668a-483e-b1c4-b15ececa492c",
        "colab": {
          "base_uri": "https://localhost:8080/",
          "height": 513
        }
      },
      "source": [
        "import matplotlib.pyplot as plt\n",
        "\n",
        "epoch_tick = np.arange(epoch_count)\n",
        "\n",
        "# convert theta to original values\n",
        "history_theta0 = y_train_mean + y_train_std * (history['theta'][:, 0] - np.sum((history['theta'][:, 1:] * x_train_mean) / x_train_std, axis=1))\n",
        "history_theta_others = (history['theta'][:, 1:] * y_train_std) / x_train_std\n",
        "\n",
        "#plot\n",
        "plt.figure(figsize=(12, 8))\n",
        "plt.title('Estimated parameters')\n",
        "plt.scatter(epoch_tick, history_theta0, c='k', s=10)\n",
        "plt.scatter(epoch_tick, history_theta_others[:, 0], c='r', s=10)\n",
        "plt.scatter(epoch_tick, history_theta_others[:, 1], c='g', s=10)\n",
        "plt.scatter(epoch_tick, history_theta_others[:, 2], c='b', s=10)\n",
        "plt.legend(['$\\Theta_0$', '$\\Theta_1$', '$\\Theta_2$', '$\\Theta_3$'], fontsize='x-large', loc='center right')\n",
        "plt.xlabel('epoch')\n",
        "plt.ylabel('scale')\n",
        "plt.ylim(-2, 4.5)\n",
        "plt.show()"
      ],
      "execution_count": 175,
      "outputs": [
        {
          "output_type": "display_data",
          "data": {
            "image/png": "[encoded data removed]",
            "text/plain": [
              "<Figure size 864x576 with 1 Axes>"
            ]
          },
          "metadata": {
            "tags": [],
            "needs_background": "light"
          }
        }
      ]
    },
    {
      "cell_type": "markdown",
      "metadata": {
        "id": "PELNErMgyH_M",
        "colab_type": "text"
      },
      "source": [
        "5-2. Training error"
      ]
    },
    {
      "cell_type": "code",
      "metadata": {
        "id": "UDNEH_O8yMqr",
        "colab_type": "code",
        "outputId": "bd8c56cf-3192-46b5-b657-cdbcd957792a",
        "colab": {
          "base_uri": "https://localhost:8080/",
          "height": 513
        }
      },
      "source": [
        "plt.figure(figsize=(12, 8))\n",
        "plt.title('Training error')\n",
        "plt.plot(epoch_tick, history['train_err'], 'b-', linewidth=3)\n",
        "plt.xlabel('epoch')\n",
        "plt.ylabel('error')\n",
        "plt.show()"
      ],
      "execution_count": 176,
      "outputs": [
        {
          "output_type": "display_data",
          "data": {
            "image/png": "[encoded data removed]",
            "text/plain": [
              "<Figure size 864x576 with 1 Axes>"
            ]
          },
          "metadata": {
            "tags": [],
            "needs_background": "light"
          }
        }
      ]
    },
    {
      "cell_type": "markdown",
      "metadata": {
        "id": "Is2MlNgfyj9G",
        "colab_type": "text"
      },
      "source": [
        "5-3. Testing error"
      ]
    },
    {
      "cell_type": "code",
      "metadata": {
        "id": "ctariN2vylGD",
        "colab_type": "code",
        "outputId": "1aa357f3-3a78-4445-eafc-5b1ce835fa13",
        "colab": {
          "base_uri": "https://localhost:8080/",
          "height": 513
        }
      },
      "source": [
        "plt.figure(figsize=(12, 8))\n",
        "plt.title('Testing error')\n",
        "plt.plot(epoch_tick, history['test_err'], 'r-', linewidth=3)\n",
        "plt.xlabel('epoch')\n",
        "plt.ylabel('error')\n",
        "plt.show()"
      ],
      "execution_count": 177,
      "outputs": [
        {
          "output_type": "display_data",
          "data": {
            "image/png": "[encoded data removed]",
            "text/plain": [
              "<Figure size 864x576 with 1 Axes>"
            ]
          },
          "metadata": {
            "tags": [],
            "needs_background": "light"
          }
        }
      ]
    }
  ]
}