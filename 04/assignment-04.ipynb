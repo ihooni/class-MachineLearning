{
  "nbformat": 4,
  "nbformat_minor": 0,
  "metadata": {
    "colab": {
      "name": "assignment-04.ipynb",
      "provenance": [],
      "collapsed_sections": [],
      "mount_file_id": "1f1t-H9WVEF-GqB31Bqm4kBxiHUSlrVT4",
      "authorship_tag": "ABX9TyN+UIseX/A+nCykA8HG6BJr"
    },
    "kernelspec": {
      "name": "python3",
      "display_name": "Python 3"
    }
  },
  "cells": [
    {
      "cell_type": "markdown",
      "metadata": {
        "id": "lKGLMxPljjIG",
        "colab_type": "text"
      },
      "source": [
        "### 1. Load data from csv file"
      ]
    },
    {
      "cell_type": "code",
      "metadata": {
        "id": "JweUGOsMjjuw",
        "colab_type": "code",
        "colab": {}
      },
      "source": [
        "import numpy as np\n",
        "\n",
        "TRAIN_DATA_PATH = './data_train.csv'\n",
        "TEST_DATA_PATH = './data_test.csv'\n",
        "\n",
        "# load train data\n",
        "train_data = np.genfromtxt(TRAIN_DATA_PATH, delimiter=',', dtype=np.str)\n",
        "train_data = np.char.strip(train_data, '\"').astype(np.float64)\n",
        "x_train = train_data[:, 0:-1]\n",
        "y_train = train_data[:, -1].reshape(-1, 1)\n",
        "\n",
        "# load test data\n",
        "test_data = np.genfromtxt(TEST_DATA_PATH, delimiter=',', dtype=np.str)\n",
        "test_data = np.char.strip(test_data, '\"').astype(np.float64)\n",
        "x_test = test_data[:, 0:-1]\n",
        "y_test = test_data[:, -1].reshape(-1, 1)"
      ],
      "execution_count": 0,
      "outputs": []
    },
    {
      "cell_type": "markdown",
      "metadata": {
        "id": "LFge0QmNonvG",
        "colab_type": "text"
      },
      "source": [
        "### 2. Define functions for linear regression\n",
        "\n"
      ]
    },
    {
      "cell_type": "code",
      "metadata": {
        "id": "K4RtNi_Fozie",
        "colab_type": "code",
        "colab": {}
      },
      "source": [
        "def linear(theta, x):\n",
        "  m = len(x)\n",
        "  temp_x = np.concatenate((np.ones((m, 1)), x), axis=1)\n",
        "  return np.matmul(temp_x, theta.T)\n",
        "\n",
        "def objective(y_hat, y):\n",
        "  m = len(y)\n",
        "  return (1 / (2 * m)) * np.sum((y_hat - y) ** 2, axis=0)\n",
        "\n",
        "def gradient(x, y_hat, y):\n",
        "  m = len(x)\n",
        "  temp_x = np.concatenate((np.ones((m, 1)), x), axis=1)\n",
        "  return (1 / m) * np.matmul((y_hat - y).T, temp_x)"
      ],
      "execution_count": 0,
      "outputs": []
    },
    {
      "cell_type": "markdown",
      "metadata": {
        "id": "rRBzTa25yhM0",
        "colab_type": "text"
      },
      "source": [
        "### 3. Learning with the gradient descent algorithm\n"
      ]
    },
    {
      "cell_type": "code",
      "metadata": {
        "id": "wh55xIiYyh3y",
        "colab_type": "code",
        "colab": {}
      },
      "source": [
        "# initialize model parameters and learning rate\n",
        "feature_cnt = x_train.shape[1]\n",
        "theta = np.zeros((1, feature_cnt + 1))\n",
        "\n",
        "lr = 0.00001\n",
        "epoch_count = 10000\n",
        "\n",
        "history = {\n",
        "    'theta': [],\n",
        "    'train_err': [],\n",
        "    'test_err': []\n",
        "}\n",
        "\n",
        "for epoch in range(epoch_count):\n",
        "  # calculate training error\n",
        "  y_hat_train = linear(theta, x_train)\n",
        "  train_err = objective(y_hat_train, y_train)\n",
        "\n",
        "  # calculate testing error\n",
        "  y_hat_test = linear(theta, x_test)\n",
        "  test_err = objective(y_hat_test, y_test)\n",
        "\n",
        "  # logging history\n",
        "  history['theta'].append(np.squeeze(theta))\n",
        "  history['train_err'].append(train_err)\n",
        "  history['test_err'].append(test_err)\n",
        "\n",
        "  # gradient descent using the training dataset\n",
        "  grad_theta = gradient(x_train, y_hat_train, y_train)\n",
        "  theta -= lr * grad_theta"
      ],
      "execution_count": 0,
      "outputs": []
    }
  ]
}