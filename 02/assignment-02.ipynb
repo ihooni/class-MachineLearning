{
  "nbformat": 4,
  "nbformat_minor": 0,
  "metadata": {
    "colab": {
      "name": "assignment-02.ipynb",
      "provenance": [],
      "collapsed_sections": [],
      "authorship_tag": "ABX9TyO1GikNuHJ/l0KerTS5FEI1"
    },
    "kernelspec": {
      "name": "python3",
      "display_name": "Python 3"
    }
  },
  "cells": [
    {
      "cell_type": "markdown",
      "metadata": {
        "id": "kVm5zuolPqtZ",
        "colab_type": "text"
      },
      "source": [
        "### 1. Generate data"
      ]
    },
    {
      "cell_type": "markdown",
      "metadata": {
        "id": "ygRQdayVQkGo",
        "colab_type": "text"
      },
      "source": [
        "1-1. Initialize the parameters which are used to generate data\n"
      ]
    },
    {
      "cell_type": "code",
      "metadata": {
        "id": "wVLY5m8gPvmT",
        "colab_type": "code",
        "colab": {}
      },
      "source": [
        "m = 201\n",
        "a = 0.3\n",
        "b = 2.1\n",
        "std = 1"
      ],
      "execution_count": 0,
      "outputs": []
    },
    {
      "cell_type": "markdown",
      "metadata": {
        "id": "PogXYuuORE_H",
        "colab_type": "text"
      },
      "source": [
        "1-2. Generate a set of $m$ point pairs $\\{ (x^{(i)}, y^{(i)}) \\}_{i = 1}^m$"
      ]
    },
    {
      "cell_type": "code",
      "metadata": {
        "id": "Lui15B4kWLn3",
        "colab_type": "code",
        "colab": {}
      },
      "source": [
        "import numpy as np\n",
        "\n",
        "x = np.linspace(-5, 15, m)\n",
        "y_hat = a * x + b\n",
        "\n",
        "noise = std * np.random.randn(m)\n",
        "y = y_hat + noise"
      ],
      "execution_count": 0,
      "outputs": []
    }
  ]
}