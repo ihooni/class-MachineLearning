{
  "nbformat": 4,
  "nbformat_minor": 0,
  "metadata": {
    "colab": {
      "name": "assignment-02.ipynb",
      "provenance": [],
      "collapsed_sections": [],
      "authorship_tag": "ABX9TyO6SWzT+nWyfoYoscixQXw7"
    },
    "kernelspec": {
      "name": "python3",
      "display_name": "Python 3"
    }
  },
  "cells": [
    {
      "cell_type": "markdown",
      "metadata": {
        "id": "kVm5zuolPqtZ",
        "colab_type": "text"
      },
      "source": [
        "### 1. Generate data"
      ]
    },
    {
      "cell_type": "markdown",
      "metadata": {
        "id": "ygRQdayVQkGo",
        "colab_type": "text"
      },
      "source": [
        "1-1. Initialize the parameters which are used to generate data\n"
      ]
    },
    {
      "cell_type": "code",
      "metadata": {
        "id": "wVLY5m8gPvmT",
        "colab_type": "code",
        "colab": {}
      },
      "source": [
        "m = 201\n",
        "a = 0.3\n",
        "b = 2.1\n",
        "std = 1"
      ],
      "execution_count": 0,
      "outputs": []
    },
    {
      "cell_type": "markdown",
      "metadata": {
        "id": "PogXYuuORE_H",
        "colab_type": "text"
      },
      "source": [
        "1-2. Generate a set of $m$ point pairs $\\{ (x^{(i)}, y^{(i)}) \\}_{i = 1}^m$"
      ]
    },
    {
      "cell_type": "code",
      "metadata": {
        "id": "Lui15B4kWLn3",
        "colab_type": "code",
        "colab": {}
      },
      "source": [
        "import numpy as np\n",
        "\n",
        "x_data = np.linspace(-5, 15, m)\n",
        "y_hat = a * x_data + b\n",
        "\n",
        "noise = std * np.random.randn(m)\n",
        "y_data = y_hat + noise"
      ],
      "execution_count": 0,
      "outputs": []
    },
    {
      "cell_type": "markdown",
      "metadata": {
        "id": "3NJzfY-0bPQA",
        "colab_type": "text"
      },
      "source": [
        "### 2. Define functions for linear regression\n"
      ]
    },
    {
      "cell_type": "markdown",
      "metadata": {
        "id": "kLPYiWp_fG7Z",
        "colab_type": "text"
      },
      "source": [
        "2-1. Linear function: $h_\\theta(x) = \\theta_0 + \\theta_1 x$"
      ]
    },
    {
      "cell_type": "code",
      "metadata": {
        "id": "7q4g74g2fN5l",
        "colab_type": "code",
        "colab": {}
      },
      "source": [
        "def linear_func(theta, x):\n",
        "  theta_0, theta_1 = theta\n",
        "  return theta_0 + theta_1 * x"
      ],
      "execution_count": 0,
      "outputs": []
    },
    {
      "cell_type": "markdown",
      "metadata": {
        "id": "f_S1S8BpbckA",
        "colab_type": "text"
      },
      "source": [
        "2-2. Objective function: $J(\\theta) = \\frac{1}{2 m} \\sum_{i=1}^m (h_\\theta(x^{(i)}) - y^{(i)})^2$"
      ]
    },
    {
      "cell_type": "code",
      "metadata": {
        "id": "1ycYz6NUbkWX",
        "colab_type": "code",
        "colab": {}
      },
      "source": [
        "def objective_func(h_x, y):\n",
        "  return (1 / (2 * m)) * np.sum((h_x - y)**2)"
      ],
      "execution_count": 0,
      "outputs": []
    },
    {
      "cell_type": "markdown",
      "metadata": {
        "id": "SE5i1c9kdbg2",
        "colab_type": "text"
      },
      "source": [
        "2-3. Gradient function  \n",
        "  \n",
        "${\\partial\\over\\partial \\theta_0}J(\\theta) = \\frac{1}{m} \\sum_{i=1}^{m} (h_\\theta(x^{(i)}) - y^{(i)})$  \n",
        "  \n",
        "${\\partial\\over\\partial \\theta_1}J(\\theta) = \\frac{1}{m} \\sum_{i=1}^{m} (h_\\theta(x^{(i)}) - y^{(i)}) x^{(i)}$"
      ]
    },
    {
      "cell_type": "code",
      "metadata": {
        "id": "GhZRLt6Mew5h",
        "colab_type": "code",
        "colab": {}
      },
      "source": [
        "def gradient_func(x, h_x, y):\n",
        "  d_theta_0 = (1 / m) * np.sum(h_x - y)\n",
        "  d_theta_1 = (1 / m) * np.sum((h_x - y) * x)\n",
        "\n",
        "  return d_theta_0, d_theta_1"
      ],
      "execution_count": 0,
      "outputs": []
    }
  ]
}