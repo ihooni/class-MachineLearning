{
  "nbformat": 4,
  "nbformat_minor": 0,
  "metadata": {
    "colab": {
      "name": "assignment-02.ipynb",
      "provenance": [],
      "collapsed_sections": [],
      "authorship_tag": "ABX9TyNbdIA/cLcOCa10BHLjkana"
    },
    "kernelspec": {
      "name": "python3",
      "display_name": "Python 3"
    }
  },
  "cells": [
    {
      "cell_type": "markdown",
      "metadata": {
        "id": "kVm5zuolPqtZ",
        "colab_type": "text"
      },
      "source": [
        "### 1. Generate data"
      ]
    },
    {
      "cell_type": "markdown",
      "metadata": {
        "id": "ygRQdayVQkGo",
        "colab_type": "text"
      },
      "source": [
        "*1-1. Initialize the parameters which are used to generate data*\n"
      ]
    },
    {
      "cell_type": "code",
      "metadata": {
        "id": "wVLY5m8gPvmT",
        "colab_type": "code",
        "colab": {}
      },
      "source": [
        "m = 201\n",
        "a = 0.3\n",
        "b = 2.1\n",
        "std = 0.7"
      ],
      "execution_count": 0,
      "outputs": []
    },
    {
      "cell_type": "markdown",
      "metadata": {
        "id": "PogXYuuORE_H",
        "colab_type": "text"
      },
      "source": [
        "*1-2. Generate a set of $m$ point pairs $\\{ (x^{(i)}, y^{(i)}) \\}_{i = 1}^m$*"
      ]
    },
    {
      "cell_type": "code",
      "metadata": {
        "id": "Lui15B4kWLn3",
        "colab_type": "code",
        "colab": {}
      },
      "source": [
        "import numpy as np\n",
        "\n",
        "x_data = np.linspace(-5, 15, m)\n",
        "y_hat = a * x_data + b\n",
        "\n",
        "noise = std * np.random.randn(m)\n",
        "y_data = y_hat + noise"
      ],
      "execution_count": 0,
      "outputs": []
    },
    {
      "cell_type": "markdown",
      "metadata": {
        "id": "3NJzfY-0bPQA",
        "colab_type": "text"
      },
      "source": [
        "### 2. Define functions for linear regression\n"
      ]
    },
    {
      "cell_type": "markdown",
      "metadata": {
        "id": "kLPYiWp_fG7Z",
        "colab_type": "text"
      },
      "source": [
        "*2-1. Linear function*\n",
        "  \n",
        "  $h_\\theta(x) = \\theta_0 + \\theta_1 x$"
      ]
    },
    {
      "cell_type": "code",
      "metadata": {
        "id": "7q4g74g2fN5l",
        "colab_type": "code",
        "colab": {}
      },
      "source": [
        "def linear_func(theta_0, theta_1, x):\n",
        "  return theta_0 + theta_1 * x"
      ],
      "execution_count": 0,
      "outputs": []
    },
    {
      "cell_type": "markdown",
      "metadata": {
        "id": "f_S1S8BpbckA",
        "colab_type": "text"
      },
      "source": [
        "*2-2. Objective function*\n",
        "  \n",
        "$J(\\theta) = \\frac{1}{2 m} \\sum_{i=1}^m (h_\\theta(x^{(i)}) - y^{(i)})^2$"
      ]
    },
    {
      "cell_type": "code",
      "metadata": {
        "id": "1ycYz6NUbkWX",
        "colab_type": "code",
        "colab": {}
      },
      "source": [
        "def objective_func(h_x, y):\n",
        "  return (1 / (2 * m)) * np.sum((h_x - y)**2)"
      ],
      "execution_count": 0,
      "outputs": []
    },
    {
      "cell_type": "markdown",
      "metadata": {
        "id": "SE5i1c9kdbg2",
        "colab_type": "text"
      },
      "source": [
        "*2-3. Gradient function*\n",
        "  \n",
        "${\\partial\\over\\partial \\theta_0}J(\\theta) = \\frac{1}{m} \\sum_{i=1}^{m} (h_\\theta(x^{(i)}) - y^{(i)})$  \n",
        "  \n",
        "${\\partial\\over\\partial \\theta_1}J(\\theta) = \\frac{1}{m} \\sum_{i=1}^{m} (h_\\theta(x^{(i)}) - y^{(i)}) x^{(i)}$"
      ]
    },
    {
      "cell_type": "code",
      "metadata": {
        "id": "GhZRLt6Mew5h",
        "colab_type": "code",
        "colab": {}
      },
      "source": [
        "def gradient_func(x, h_x, y):\n",
        "  d_theta_0 = (1 / m) * np.sum(h_x - y)\n",
        "  d_theta_1 = (1 / m) * np.sum((h_x - y) * x)\n",
        "\n",
        "  return d_theta_0, d_theta_1"
      ],
      "execution_count": 0,
      "outputs": []
    },
    {
      "cell_type": "markdown",
      "metadata": {
        "id": "EfeH_oJVijpJ",
        "colab_type": "text"
      },
      "source": [
        "### 3. Learning with the gradient descent algorithm\n"
      ]
    },
    {
      "cell_type": "markdown",
      "metadata": {
        "id": "ebW82gNSi1XU",
        "colab_type": "text"
      },
      "source": [
        "*3-1. Initialize model parameters and learning rate*\n",
        "  \n",
        "*Model parameters:* $\\theta_0^{(0)}$ and $\\theta_1^{(0)}$  \n",
        "*Learning rate:* $\\alpha$"
      ]
    },
    {
      "cell_type": "code",
      "metadata": {
        "id": "5FeY9CtRio5l",
        "colab_type": "code",
        "colab": {}
      },
      "source": [
        "theta_0 = 0\n",
        "theta_1 = 0\n",
        "\n",
        "lr = 0.001\n",
        "epoch_count = 3000"
      ],
      "execution_count": 0,
      "outputs": []
    },
    {
      "cell_type": "markdown",
      "metadata": {
        "id": "GhNtS100kMC_",
        "colab_type": "text"
      },
      "source": [
        "*3-2. Run the gradient descent algorithm until convergence*"
      ]
    },
    {
      "cell_type": "code",
      "metadata": {
        "id": "xb7wfbdWkShU",
        "colab_type": "code",
        "colab": {}
      },
      "source": [
        "energy_history = []\n",
        "theta_0_history = []\n",
        "theta_1_history = []\n",
        "\n",
        "for epoch in range(epoch_count):\n",
        "  h_x = linear_func(theta_0, theta_1, x_data)\n",
        "  energy = objective_func(h_x, y_data)\n",
        "\n",
        "  # logging history\n",
        "  energy_history.append(energy)\n",
        "  theta_0_history.append(theta_0)\n",
        "  theta_1_history.append(theta_1)\n",
        "\n",
        "  # gradient descent\n",
        "  d_theta = gradient_func(x_data, h_x, y_data)\n",
        "  theta_0 -= lr * d_theta[0]\n",
        "  theta_1 -= lr * d_theta[1]"
      ],
      "execution_count": 0,
      "outputs": []
    },
    {
      "cell_type": "markdown",
      "metadata": {
        "id": "03Vtb-tQpzdZ",
        "colab_type": "text"
      },
      "source": [
        "### 4. Plot the results\n"
      ]
    },
    {
      "cell_type": "code",
      "metadata": {
        "id": "HuGvpYK8p9t0",
        "colab_type": "code",
        "colab": {}
      },
      "source": [
        "import matplotlib.pyplot as plt\n",
        "\n",
        "epoch_axis = np.arange(epoch_count) + 1"
      ],
      "execution_count": 0,
      "outputs": []
    },
    {
      "cell_type": "markdown",
      "metadata": {
        "id": "j7DwiKCTp56G",
        "colab_type": "text"
      },
      "source": [
        "*4-1. Input data*"
      ]
    },
    {
      "cell_type": "code",
      "metadata": {
        "id": "FXW_sgnhqySJ",
        "colab_type": "code",
        "colab": {
          "base_uri": "https://localhost:8080/",
          "height": 295
        },
        "outputId": "1b440a0c-2f5e-42b3-88f1-a749ea69c23f"
      },
      "source": [
        "plt.title('Input data')\n",
        "plt.plot(x_data, y_hat, 'b-', linewidth=4)\n",
        "plt.scatter(x_data, y_data, c='black')\n",
        "plt.legend(['Linear function', 'Random points'])\n",
        "plt.xlabel('x')\n",
        "plt.ylabel('y')\n",
        "plt.show()"
      ],
      "execution_count": 50,
      "outputs": [
        {
          "output_type": "display_data",
          "data": {
            "image/png": "[encoded data removed]",
            "text/plain": [
              "<Figure size 432x288 with 1 Axes>"
            ]
          },
          "metadata": {
            "tags": []
          }
        }
      ]
    }
  ]
}