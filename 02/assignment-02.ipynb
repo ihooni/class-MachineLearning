{
  "nbformat": 4,
  "nbformat_minor": 0,
  "metadata": {
    "colab": {
      "name": "assignment-02.ipynb",
      "provenance": [],
      "collapsed_sections": [],
      "authorship_tag": "ABX9TyNTNaLfJemRenWd1/TRH2j5"
    },
    "kernelspec": {
      "name": "python3",
      "display_name": "Python 3"
    }
  },
  "cells": [
    {
      "cell_type": "markdown",
      "metadata": {
        "id": "kVm5zuolPqtZ",
        "colab_type": "text"
      },
      "source": [
        "### 1. Generate data"
      ]
    },
    {
      "cell_type": "markdown",
      "metadata": {
        "id": "ygRQdayVQkGo",
        "colab_type": "text"
      },
      "source": [
        "*1-1. Initialize the parameters which are used to generate data*\n"
      ]
    },
    {
      "cell_type": "code",
      "metadata": {
        "id": "wVLY5m8gPvmT",
        "colab_type": "code",
        "colab": {}
      },
      "source": [
        "m = 201\n",
        "a = 0.3\n",
        "b = 2.1\n",
        "std = 0.7"
      ],
      "execution_count": 0,
      "outputs": []
    },
    {
      "cell_type": "markdown",
      "metadata": {
        "id": "PogXYuuORE_H",
        "colab_type": "text"
      },
      "source": [
        "*1-2. Generate a set of $m$ point pairs $\\{ (x^{(i)}, y^{(i)}) \\}_{i = 1}^m$*"
      ]
    },
    {
      "cell_type": "code",
      "metadata": {
        "id": "Lui15B4kWLn3",
        "colab_type": "code",
        "colab": {}
      },
      "source": [
        "import numpy as np\n",
        "\n",
        "x_data = np.linspace(-5, 15, m)\n",
        "y_hat = a * x_data + b\n",
        "\n",
        "noise = std * np.random.randn(m)\n",
        "y_data = y_hat + noise"
      ],
      "execution_count": 0,
      "outputs": []
    },
    {
      "cell_type": "markdown",
      "metadata": {
        "id": "3NJzfY-0bPQA",
        "colab_type": "text"
      },
      "source": [
        "### 2. Define functions for linear regression\n"
      ]
    },
    {
      "cell_type": "markdown",
      "metadata": {
        "id": "kLPYiWp_fG7Z",
        "colab_type": "text"
      },
      "source": [
        "*2-1. Linear function*\n",
        "  \n",
        "  $h_\\theta(x) = \\theta_0 + \\theta_1 x$"
      ]
    },
    {
      "cell_type": "code",
      "metadata": {
        "id": "7q4g74g2fN5l",
        "colab_type": "code",
        "colab": {}
      },
      "source": [
        "def linear_func(theta_0, theta_1, x):\n",
        "  return theta_0 + theta_1 * x"
      ],
      "execution_count": 0,
      "outputs": []
    },
    {
      "cell_type": "markdown",
      "metadata": {
        "id": "f_S1S8BpbckA",
        "colab_type": "text"
      },
      "source": [
        "*2-2. Objective function*\n",
        "  \n",
        "$J(\\theta) = \\frac{1}{2 m} \\sum_{i=1}^m (h_\\theta(x^{(i)}) - y^{(i)})^2$"
      ]
    },
    {
      "cell_type": "code",
      "metadata": {
        "id": "1ycYz6NUbkWX",
        "colab_type": "code",
        "colab": {}
      },
      "source": [
        "def objective_func(h_x, y):\n",
        "  return (1 / (2 * m)) * np.sum((h_x - y)**2)"
      ],
      "execution_count": 0,
      "outputs": []
    },
    {
      "cell_type": "markdown",
      "metadata": {
        "id": "SE5i1c9kdbg2",
        "colab_type": "text"
      },
      "source": [
        "*2-3. Gradient function*\n",
        "  \n",
        "$\\frac{\\partial}{\\partial\\theta_0}J(\\theta) = \\frac{1}{m} \\sum_{i=1}^{m} (h_\\theta(x^{(i)}) - y^{(i)})$  \n",
        "    \n",
        "$\\frac{\\partial}{\\partial\\theta_1}J(\\theta) = \\frac{1}{m} \\sum_{i=1}^{m} (h_\\theta(x^{(i)}) - y^{(i)}) x^{(i)}$"
      ]
    },
    {
      "cell_type": "code",
      "metadata": {
        "id": "GhZRLt6Mew5h",
        "colab_type": "code",
        "colab": {}
      },
      "source": [
        "def gradient_func(x, h_x, y):\n",
        "  d_theta_0 = (1 / m) * np.sum(h_x - y)\n",
        "  d_theta_1 = (1 / m) * np.sum((h_x - y) * x)\n",
        "\n",
        "  return d_theta_0, d_theta_1"
      ],
      "execution_count": 0,
      "outputs": []
    },
    {
      "cell_type": "markdown",
      "metadata": {
        "id": "EfeH_oJVijpJ",
        "colab_type": "text"
      },
      "source": [
        "### 3. Learning with the gradient descent algorithm\n"
      ]
    },
    {
      "cell_type": "markdown",
      "metadata": {
        "id": "ebW82gNSi1XU",
        "colab_type": "text"
      },
      "source": [
        "*3-1. Initialize model parameters and learning rate*\n",
        "  \n",
        "*Model parameters:* $\\theta_0^{(0)}$ and $\\theta_1^{(0)}$  \n",
        "*Learning rate:* $\\alpha$"
      ]
    },
    {
      "cell_type": "code",
      "metadata": {
        "id": "5FeY9CtRio5l",
        "colab_type": "code",
        "colab": {}
      },
      "source": [
        "theta_0 = 0\n",
        "theta_1 = 0\n",
        "\n",
        "lr = 0.001\n",
        "epoch_count = 20000"
      ],
      "execution_count": 0,
      "outputs": []
    },
    {
      "cell_type": "markdown",
      "metadata": {
        "id": "GhNtS100kMC_",
        "colab_type": "text"
      },
      "source": [
        "*3-2. Run the gradient descent algorithm until convergence*"
      ]
    },
    {
      "cell_type": "code",
      "metadata": {
        "id": "xb7wfbdWkShU",
        "colab_type": "code",
        "colab": {}
      },
      "source": [
        "energy_history = []\n",
        "theta_0_history = []\n",
        "theta_1_history = []\n",
        "\n",
        "for epoch in range(epoch_count):\n",
        "  h_x = linear_func(theta_0, theta_1, x_data)\n",
        "  energy = objective_func(h_x, y_data)\n",
        "\n",
        "  # logging history\n",
        "  energy_history.append(energy)\n",
        "  theta_0_history.append(theta_0)\n",
        "  theta_1_history.append(theta_1)\n",
        "  \n",
        "  # gradient descent\n",
        "  d_theta = gradient_func(x_data, h_x, y_data)\n",
        "  theta_0 -= lr * d_theta[0]\n",
        "  theta_1 -= lr * d_theta[1]"
      ],
      "execution_count": 0,
      "outputs": []
    },
    {
      "cell_type": "markdown",
      "metadata": {
        "id": "03Vtb-tQpzdZ",
        "colab_type": "text"
      },
      "source": [
        "### 4. Plot the results\n"
      ]
    },
    {
      "cell_type": "code",
      "metadata": {
        "id": "HuGvpYK8p9t0",
        "colab_type": "code",
        "colab": {}
      },
      "source": [
        "import matplotlib.pyplot as plt\n",
        "\n",
        "epoch_axis = np.arange(epoch_count)"
      ],
      "execution_count": 0,
      "outputs": []
    },
    {
      "cell_type": "markdown",
      "metadata": {
        "id": "j7DwiKCTp56G",
        "colab_type": "text"
      },
      "source": [
        "*4-1. Input data*"
      ]
    },
    {
      "cell_type": "code",
      "metadata": {
        "id": "FXW_sgnhqySJ",
        "colab_type": "code",
        "outputId": "3b8fa0bd-6827-4401-dae3-e16eaf0f03f7",
        "colab": {
          "base_uri": "https://localhost:8080/",
          "height": 295
        }
      },
      "source": [
        "plt.title('Input data')\n",
        "plt.plot(x_data, y_hat, 'b-', linewidth=4)\n",
        "plt.scatter(x_data, y_data, c='black')\n",
        "plt.legend(['Original linear function', 'Random points'])\n",
        "plt.xlabel('x')\n",
        "plt.ylabel('y')\n",
        "plt.show()"
      ],
      "execution_count": 0,
      "outputs": [
        {
          "output_type": "display_data",
          "data": {
            "image/png": "[encoded data removed]",
            "text/plain": [
              "<Figure size 432x288 with 1 Axes>"
            ]
          },
          "metadata": {
            "tags": []
          }
        }
      ]
    },
    {
      "cell_type": "markdown",
      "metadata": {
        "id": "WL5EsYs9suIC",
        "colab_type": "text"
      },
      "source": [
        "*4-2. Output results*"
      ]
    },
    {
      "cell_type": "code",
      "metadata": {
        "id": "BmbHMVwysxG2",
        "colab_type": "code",
        "outputId": "eddbdfe1-c756-4694-ba4b-f648f70d9ffc",
        "colab": {
          "base_uri": "https://localhost:8080/",
          "height": 295
        }
      },
      "source": [
        "plt.title('Output results')\n",
        "plt.plot(x_data, linear_func(theta_0, theta_1, x_data), 'r-', linewidth=4)\n",
        "plt.scatter(x_data, y_data, c='black')\n",
        "plt.legend(['Regressed linear function', 'Random points'])\n",
        "plt.xlabel('x')\n",
        "plt.ylabel('y')\n",
        "plt.show()"
      ],
      "execution_count": 0,
      "outputs": [
        {
          "output_type": "display_data",
          "data": {
            "image/png": "[encoded data removed]",
            "text/plain": [
              "<Figure size 432x288 with 1 Axes>"
            ]
          },
          "metadata": {
            "tags": []
          }
        }
      ]
    },
    {
      "cell_type": "markdown",
      "metadata": {
        "id": "bey39NSnts-s",
        "colab_type": "text"
      },
      "source": [
        "*4-3. Plotting the energy values*"
      ]
    },
    {
      "cell_type": "code",
      "metadata": {
        "id": "qYz0ABGPtwED",
        "colab_type": "code",
        "outputId": "94ddbc95-5131-43a3-b56b-64d21191d5b9",
        "colab": {
          "base_uri": "https://localhost:8080/",
          "height": 295
        }
      },
      "source": [
        "plt.title('Energy values')\n",
        "plt.plot(epoch_axis, energy_history, 'b-')\n",
        "plt.xlabel('epoch')\n",
        "plt.ylabel('energy')\n",
        "plt.show()"
      ],
      "execution_count": 0,
      "outputs": [
        {
          "output_type": "display_data",
          "data": {
            "image/png": "[encoded data removed]",
            "text/plain": [
              "<Figure size 432x288 with 1 Axes>"
            ]
          },
          "metadata": {
            "tags": []
          }
        }
      ]
    },
    {
      "cell_type": "markdown",
      "metadata": {
        "id": "RR1SP--rvchK",
        "colab_type": "text"
      },
      "source": [
        "*4-4. Plotting the model parameters*"
      ]
    },
    {
      "cell_type": "code",
      "metadata": {
        "id": "YIkZDyc8vei8",
        "colab_type": "code",
        "outputId": "78ddc2e3-0154-4817-8f54-31f9cedc609f",
        "colab": {
          "base_uri": "https://localhost:8080/",
          "height": 295
        }
      },
      "source": [
        "plt.title('Model parameters')\n",
        "plt.plot(epoch_axis, theta_0_history, 'r-')\n",
        "plt.plot(epoch_axis, theta_1_history, 'b-')\n",
        "plt.yticks(np.arange(min(theta_0_history + theta_1_history), max(theta_0_history + theta_1_history) + 0.1, 0.3))\n",
        "plt.legend(['theta 0', 'theat 1'])\n",
        "plt.xlabel('epoch')\n",
        "plt.ylabel('scale')\n",
        "plt.show()"
      ],
      "execution_count": 0,
      "outputs": [
        {
          "output_type": "display_data",
          "data": {
            "image/png": "[encoded data removed]",
            "text/plain": [
              "<Figure size 432x288 with 1 Axes>"
            ]
          },
          "metadata": {
            "tags": []
          }
        }
      ]
    }
  ]
}