{
  "nbformat": 4,
  "nbformat_minor": 0,
  "metadata": {
    "colab": {
      "name": "assignment-02.ipynb",
      "provenance": [],
      "collapsed_sections": [],
      "authorship_tag": "ABX9TyPw0MAGqbWraUgS5QpjQo9/"
    },
    "kernelspec": {
      "name": "python3",
      "display_name": "Python 3"
    }
  },
  "cells": [
    {
      "cell_type": "markdown",
      "metadata": {
        "id": "kVm5zuolPqtZ",
        "colab_type": "text"
      },
      "source": [
        "### 1. Generate data"
      ]
    },
    {
      "cell_type": "markdown",
      "metadata": {
        "id": "ygRQdayVQkGo",
        "colab_type": "text"
      },
      "source": [
        "*1-1. Initialize the parameters which are used to generate data*\n"
      ]
    },
    {
      "cell_type": "code",
      "metadata": {
        "id": "wVLY5m8gPvmT",
        "colab_type": "code",
        "colab": {}
      },
      "source": [
        "m = 201\n",
        "a = 0.3\n",
        "b = 2.1\n",
        "std = 1"
      ],
      "execution_count": 0,
      "outputs": []
    },
    {
      "cell_type": "markdown",
      "metadata": {
        "id": "PogXYuuORE_H",
        "colab_type": "text"
      },
      "source": [
        "*1-2. Generate a set of $m$ point pairs $\\{ (x^{(i)}, y^{(i)}) \\}_{i = 1}^m$*"
      ]
    },
    {
      "cell_type": "code",
      "metadata": {
        "id": "Lui15B4kWLn3",
        "colab_type": "code",
        "colab": {}
      },
      "source": [
        "import numpy as np\n",
        "\n",
        "x_data = np.linspace(-5, 15, m)\n",
        "y_hat = a * x_data + b\n",
        "\n",
        "noise = std * np.random.randn(m)\n",
        "y_data = y_hat + noise"
      ],
      "execution_count": 0,
      "outputs": []
    },
    {
      "cell_type": "markdown",
      "metadata": {
        "id": "3NJzfY-0bPQA",
        "colab_type": "text"
      },
      "source": [
        "### 2. Define functions for linear regression\n"
      ]
    },
    {
      "cell_type": "markdown",
      "metadata": {
        "id": "kLPYiWp_fG7Z",
        "colab_type": "text"
      },
      "source": [
        "*2-1. Linear function*\n",
        "  \n",
        "  $h_\\theta(x) = \\theta_0 + \\theta_1 x$"
      ]
    },
    {
      "cell_type": "code",
      "metadata": {
        "id": "7q4g74g2fN5l",
        "colab_type": "code",
        "colab": {}
      },
      "source": [
        "def linear_func(theta_0, theta_1, x):\n",
        "  return theta_0 + theta_1 * x"
      ],
      "execution_count": 0,
      "outputs": []
    },
    {
      "cell_type": "markdown",
      "metadata": {
        "id": "f_S1S8BpbckA",
        "colab_type": "text"
      },
      "source": [
        "*2-2. Objective function*\n",
        "  \n",
        "$J(\\theta) = \\frac{1}{2 m} \\sum_{i=1}^m (h_\\theta(x^{(i)}) - y^{(i)})^2$"
      ]
    },
    {
      "cell_type": "code",
      "metadata": {
        "id": "1ycYz6NUbkWX",
        "colab_type": "code",
        "colab": {}
      },
      "source": [
        "def objective_func(h_x, y):\n",
        "  return (1 / (2 * m)) * np.sum((h_x - y)**2)"
      ],
      "execution_count": 0,
      "outputs": []
    },
    {
      "cell_type": "markdown",
      "metadata": {
        "id": "SE5i1c9kdbg2",
        "colab_type": "text"
      },
      "source": [
        "*2-3. Gradient function*\n",
        "  \n",
        "${\\partial\\over\\partial \\theta_0}J(\\theta) = \\frac{1}{m} \\sum_{i=1}^{m} (h_\\theta(x^{(i)}) - y^{(i)})$  \n",
        "  \n",
        "${\\partial\\over\\partial \\theta_1}J(\\theta) = \\frac{1}{m} \\sum_{i=1}^{m} (h_\\theta(x^{(i)}) - y^{(i)}) x^{(i)}$"
      ]
    },
    {
      "cell_type": "code",
      "metadata": {
        "id": "GhZRLt6Mew5h",
        "colab_type": "code",
        "colab": {}
      },
      "source": [
        "def gradient_func(x, h_x, y):\n",
        "  d_theta_0 = (1 / m) * np.sum(h_x - y)\n",
        "  d_theta_1 = (1 / m) * np.sum((h_x - y) * x)\n",
        "\n",
        "  return d_theta_0, d_theta_1"
      ],
      "execution_count": 0,
      "outputs": []
    },
    {
      "cell_type": "markdown",
      "metadata": {
        "id": "EfeH_oJVijpJ",
        "colab_type": "text"
      },
      "source": [
        "### 3. Learning with the gradient descent algorithm\n"
      ]
    },
    {
      "cell_type": "markdown",
      "metadata": {
        "id": "ebW82gNSi1XU",
        "colab_type": "text"
      },
      "source": [
        "*3-1. Initialize model parameters and learning rate*\n",
        "  \n",
        "*Model parameters:* $\\theta_0^{(0)}$ and $\\theta_1^{(0)}$  \n",
        "*Learning rate:* $\\alpha$"
      ]
    },
    {
      "cell_type": "code",
      "metadata": {
        "id": "5FeY9CtRio5l",
        "colab_type": "code",
        "colab": {}
      },
      "source": [
        "theta_0 = 0\n",
        "theta_1 = 0\n",
        "\n",
        "lr = 0.001\n",
        "epoch_count = 3000"
      ],
      "execution_count": 0,
      "outputs": []
    },
    {
      "cell_type": "markdown",
      "metadata": {
        "id": "GhNtS100kMC_",
        "colab_type": "text"
      },
      "source": [
        "*3-2. Run the gradient descent algorithm until convergence*"
      ]
    },
    {
      "cell_type": "code",
      "metadata": {
        "id": "xb7wfbdWkShU",
        "colab_type": "code",
        "colab": {
          "base_uri": "https://localhost:8080/",
          "height": 527
        },
        "outputId": "ee737061-5362-48df-9254-e37b5acaecaa"
      },
      "source": [
        "energy_history = []\n",
        "theta_0_history = []\n",
        "theta_1_history = []\n",
        "\n",
        "for epoch in range(epoch_count):\n",
        "  h_x = linear_func(theta_0, theta_1, x_data)\n",
        "  energy = objective_func(h_x, y_data)\n",
        "\n",
        "  # logging history\n",
        "  energy_history.append(energy)\n",
        "  theta_0_history.append(theta_0)\n",
        "  theta_1_history.append(theta_1)\n",
        "\n",
        "  # gradient descent\n",
        "  d_theta = gradient_func(x_data, h_x, y_data)\n",
        "  theta_0 -= lr * d_theta[0]\n",
        "  theta_1 -= lr * d_theta[1]"
      ],
      "execution_count": 35,
      "outputs": [
        {
          "output_type": "stream",
          "text": [
            "8.351312592229581\n",
            "1.7176415774743774\n",
            "1.58906658568145\n",
            "1.4743706517582928\n",
            "1.3720291684893589\n",
            "1.2807113784427102\n",
            "1.1992298666192913\n",
            "1.1265251201987054\n",
            "1.0616517515805932\n",
            "1.0037662054084675\n",
            "0.9521157897291167\n",
            "0.9060288886585625\n",
            "0.8649062292888299\n",
            "0.8282130892781742\n",
            "0.7954723437992346\n",
            "0.7662582614338274\n",
            "0.7401909683417445\n",
            "0.7169315087205468\n",
            "0.6961774373269793\n",
            "0.6776588867490997\n",
            "0.6611350582914328\n",
            "0.6463910908437559\n",
            "0.6332352670190854\n",
            "0.6214965202319683\n",
            "0.6110222103013627\n",
            "0.601676138654022\n",
            "0.5933367773198691\n",
            "0.585895688690793\n",
            "0.5792561154948199\n",
            "0.5733317226509529\n"
          ],
          "name": "stdout"
        }
      ]
    }
  ]
}