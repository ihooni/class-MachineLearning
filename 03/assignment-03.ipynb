{
  "nbformat": 4,
  "nbformat_minor": 0,
  "metadata": {
    "colab": {
      "name": "assignment-03.ipynb",
      "provenance": [],
      "collapsed_sections": [],
      "toc_visible": true,
      "mount_file_id": "1-MMlTUyjDdgM8_atgXLDLZkdrxw-zgRV",
      "authorship_tag": "ABX9TyMqBl8fJIShdNne7kTG4QsX"
    },
    "kernelspec": {
      "name": "python3",
      "display_name": "Python 3"
    }
  },
  "cells": [
    {
      "cell_type": "markdown",
      "metadata": {
        "id": "Ei9-DMXtEr1I",
        "colab_type": "text"
      },
      "source": [
        "### 1. Load data from csv file"
      ]
    },
    {
      "cell_type": "code",
      "metadata": {
        "id": "7SzzB5e5EyFA",
        "colab_type": "code",
        "colab": {}
      },
      "source": [
        "import numpy as np\n",
        "\n",
        "DATA_PATH = './data.csv'\n",
        "\n",
        "data = np.genfromtxt(path, delimiter=',')\n",
        "\n",
        "x_data = data[:, 0]\n",
        "y_data = data[:, 1]\n",
        "m = len(x_data)"
      ],
      "execution_count": 0,
      "outputs": []
    },
    {
      "cell_type": "markdown",
      "metadata": {
        "id": "65Zn_ZlNF-1g",
        "colab_type": "text"
      },
      "source": [
        "### 2. Define functions for linear regression\n"
      ]
    },
    {
      "cell_type": "markdown",
      "metadata": {
        "id": "ByKSeqfBGEON",
        "colab_type": "text"
      },
      "source": [
        "2-1. Linear Model\n",
        "  \n",
        "  $h_\\theta(x) = \\theta_0 + \\theta_1 x$"
      ]
    },
    {
      "cell_type": "code",
      "metadata": {
        "id": "I6ttgcIYGLn8",
        "colab_type": "code",
        "colab": {}
      },
      "source": [
        "def linear(theta_0, theta_1, x):\n",
        "  return theta_0 + theta_1 * x"
      ],
      "execution_count": 0,
      "outputs": []
    },
    {
      "cell_type": "markdown",
      "metadata": {
        "id": "KKTjDHoUGTWx",
        "colab_type": "text"
      },
      "source": [
        "2-2. Objective Function\n",
        "  \n",
        "$J(\\theta) = \\frac{1}{2 m} \\sum_{i=1}^m (h_\\theta(x^{(i)}) - y^{(i)})^2$"
      ]
    },
    {
      "cell_type": "code",
      "metadata": {
        "id": "WP77latiG7Z4",
        "colab_type": "code",
        "colab": {}
      },
      "source": [
        "def objective(h_x, y):\n",
        "  return (1 / (2 * m)) * np.sum((h_x - y)**2)"
      ],
      "execution_count": 0,
      "outputs": []
    },
    {
      "cell_type": "markdown",
      "metadata": {
        "id": "f70I4tkRHis1",
        "colab_type": "text"
      },
      "source": [
        "2-3. Gradient function\n",
        "  \n",
        "$\\frac{\\partial}{\\partial\\theta_0}J(\\theta) = \\frac{1}{m} \\sum_{i=1}^{m} (h_\\theta(x^{(i)}) - y^{(i)})$  \n",
        "    \n",
        "$\\frac{\\partial}{\\partial\\theta_1}J(\\theta) = \\frac{1}{m} \\sum_{i=1}^{m} (h_\\theta(x^{(i)}) - y^{(i)}) x^{(i)}$"
      ]
    },
    {
      "cell_type": "code",
      "metadata": {
        "id": "yGzh0sSeHoup",
        "colab_type": "code",
        "colab": {}
      },
      "source": [
        "def gradient(x, h_x, y):\n",
        "  d_theta_0 = (1 / m) * np.sum(h_x - y)\n",
        "  d_theta_1 = (1 / m) * np.sum((h_x - y) * x)\n",
        "  return d_theta_0, d_theta_1"
      ],
      "execution_count": 0,
      "outputs": []
    },
    {
      "cell_type": "markdown",
      "metadata": {
        "id": "8db9CYxmJv3w",
        "colab_type": "text"
      },
      "source": [
        "### 3. Learning with the gradient descent algorithm\n"
      ]
    },
    {
      "cell_type": "code",
      "metadata": {
        "id": "jbTNZfk1J4Tl",
        "colab_type": "code",
        "colab": {}
      },
      "source": [
        "# initialize model parameters and learning rate\n",
        "theta_0 = -30\n",
        "theta_1 = -30\n",
        "\n",
        "lr = 0.01\n",
        "epoch_count = 2000\n",
        "\n",
        "history = {\n",
        "    'energy': [],\n",
        "    'theta_0': [],\n",
        "    'theta_1': []\n",
        "}\n",
        "\n",
        "for epoch in range(epoch_count):\n",
        "  h_x = linear(theta_0, theta_1, x_data)\n",
        "  energy = objective(h_x, y_data)\n",
        "\n",
        "  # logging history\n",
        "  history['energy'].append(energy)\n",
        "  history['theta_0'].append(theta_0)\n",
        "  history['theta_1'].append(theta_1)\n",
        "\n",
        "  # gradient descent\n",
        "  d_theta_0, d_theta_1 = gradient(x_data, h_x, y_data)\n",
        "  theta_0 -= lr * d_theta_0\n",
        "  theta_1 -= lr * d_theta_1"
      ],
      "execution_count": 0,
      "outputs": []
    },
    {
      "cell_type": "markdown",
      "metadata": {
        "id": "kPMcjEP9OlmB",
        "colab_type": "text"
      },
      "source": [
        "### 4. Plot the results\n"
      ]
    },
    {
      "cell_type": "code",
      "metadata": {
        "id": "TIBtiEfHOpUv",
        "colab_type": "code",
        "colab": {}
      },
      "source": [
        "import matplotlib.pyplot as plt"
      ],
      "execution_count": 0,
      "outputs": []
    },
    {
      "cell_type": "markdown",
      "metadata": {
        "id": "iSNXHbzCOtzo",
        "colab_type": "text"
      },
      "source": [
        "4-1. Input points"
      ]
    },
    {
      "cell_type": "code",
      "metadata": {
        "id": "G2KckVNrO0qu",
        "colab_type": "code",
        "colab": {
          "base_uri": "https://localhost:8080/",
          "height": 295
        },
        "outputId": "c88bb45e-17df-4286-c938-9c644f0bb0ae"
      },
      "source": [
        "plt.title('Input points')\n",
        "plt.scatter(x_data, y_data, c='black', alpha=0.3)\n",
        "plt.xlabel('x')\n",
        "plt.ylabel('y')\n",
        "plt.show()"
      ],
      "execution_count": 116,
      "outputs": [
        {
          "output_type": "display_data",
          "data": {
            "image/png": "[encoded data removed]",
            "text/plain": [
              "<Figure size 432x288 with 1 Axes>"
            ]
          },
          "metadata": {
            "tags": []
          }
        }
      ]
    }
  ]
}