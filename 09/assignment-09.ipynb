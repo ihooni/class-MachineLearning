{
  "nbformat": 4,
  "nbformat_minor": 0,
  "metadata": {
    "colab": {
      "name": "assignment-09.ipynb",
      "provenance": [],
      "collapsed_sections": [],
      "mount_file_id": "1iNU8ch9mKV3T6TaEfJaxhdscDt3r1zmy",
      "authorship_tag": "ABX9TyPxyjRtkRtJoVnAs4AHwSLn"
    },
    "kernelspec": {
      "name": "python3",
      "display_name": "Python 3"
    }
  },
  "cells": [
    {
      "cell_type": "markdown",
      "metadata": {
        "id": "HFNiArrrIqeB",
        "colab_type": "text"
      },
      "source": [
        "## 1. Load data from file"
      ]
    },
    {
      "cell_type": "code",
      "metadata": {
        "id": "Jeegyep8I4Eq",
        "colab_type": "code",
        "colab": {}
      },
      "source": [
        "import numpy as np\n",
        "\n",
        "DATA_PATH = './mnist.csv'\n",
        "SIZE_ROW = 28\n",
        "SIZE_COL = 28\n",
        "\n",
        "# load data from file\n",
        "data = np.genfromtxt(DATA_PATH, delimiter=',')\n",
        "\n",
        "# separate pixel values from labels\n",
        "X_raw = data[:, 1:]\n",
        "Y_raw = data[:, 0].reshape(-1, 1)"
      ],
      "execution_count": 0,
      "outputs": []
    },
    {
      "cell_type": "markdown",
      "metadata": {
        "id": "7q0HjcTFK0I-",
        "colab_type": "text"
      },
      "source": [
        "## 2. Data preprocessing"
      ]
    },
    {
      "cell_type": "code",
      "metadata": {
        "id": "LWKO3IZvK1vW",
        "colab_type": "code",
        "colab": {}
      },
      "source": [
        "# normalize\n",
        "X_data = (X_raw - np.min(X_raw)) / (np.max(X_raw) - np.min(X_raw))\n",
        "Y_data = Y_raw\n",
        "\n",
        "# train data\n",
        "X_train = X_data[:6000]\n",
        "Y_train = Y_data[:6000]\n",
        "\n",
        "# test data\n",
        "X_test = X_data[6000:]\n",
        "Y_test = Y_data[6000:]"
      ],
      "execution_count": 0,
      "outputs": []
    }
  ]
}