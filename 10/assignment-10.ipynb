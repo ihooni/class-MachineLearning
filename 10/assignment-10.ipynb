{
  "nbformat": 4,
  "nbformat_minor": 0,
  "metadata": {
    "colab": {
      "name": "assignment-10.ipynb",
      "provenance": [],
      "collapsed_sections": [],
      "mount_file_id": "131BCnhVcBXNWAArrOS5PJ3Jbh6TZq3qO",
      "authorship_tag": "ABX9TyNPB0MZfYF6i0MCC+ni/OYg"
    },
    "kernelspec": {
      "name": "python3",
      "display_name": "Python 3"
    },
    "accelerator": "GPU"
  },
  "cells": [
    {
      "cell_type": "markdown",
      "metadata": {
        "id": "QPTs6NGvh0pk",
        "colab_type": "text"
      },
      "source": [
        "## 1. Load data from file"
      ]
    },
    {
      "cell_type": "code",
      "metadata": {
        "id": "5embDCreh1H9",
        "colab_type": "code",
        "colab": {}
      },
      "source": [
        "import numpy as np\n",
        "import torch\n",
        "\n",
        "# Device configuration\n",
        "device = torch.device('cuda' if torch.cuda.is_available() else 'cpu')\n",
        "\n",
        "DATA_PATH = './mnist.csv'\n",
        "SIZE_ROW = 28\n",
        "SIZE_COL = 28\n",
        "\n",
        "# load data from file\n",
        "data = torch.from_numpy(\n",
        "    np.genfromtxt(DATA_PATH, delimiter=',')\n",
        ")\n",
        "\n",
        "# separate pixel values from labels\n",
        "X_raw = data[:, 1:]\n",
        "Y_raw = data[:, 0]"
      ],
      "execution_count": 0,
      "outputs": []
    },
    {
      "cell_type": "markdown",
      "metadata": {
        "id": "4lVNcpk7h7QJ",
        "colab_type": "text"
      },
      "source": [
        "## 2. Data preprocessing"
      ]
    },
    {
      "cell_type": "code",
      "metadata": {
        "id": "QUlQaemTh8zd",
        "colab_type": "code",
        "colab": {}
      },
      "source": [
        "# normalize X data\n",
        "X_data = (X_raw - torch.min(X_raw)) / (torch.max(X_raw) - torch.min(X_raw))\n",
        "\n",
        "# one-hot encoding Y data\n",
        "Y_data = Y_raw.to(torch.long)\n",
        "Y_data = torch.eye(torch.unique(Y_data).shape[0])[Y_data]\n",
        "\n",
        "# train data\n",
        "X_train = X_data[:1000].to(device)\n",
        "Y_train = Y_data[:1000].to(device)\n",
        "\n",
        "# test data\n",
        "X_test = X_data[1000:].to(device)\n",
        "Y_test = Y_data[1000:].to(device)"
      ],
      "execution_count": 0,
      "outputs": []
    },
    {
      "cell_type": "markdown",
      "metadata": {
        "id": "tJXzfqS4ie5S",
        "colab_type": "text"
      },
      "source": [
        "## 3. Define model and functions for learning neural network"
      ]
    },
    {
      "cell_type": "code",
      "metadata": {
        "id": "kOC76Zyeigt-",
        "colab_type": "code",
        "colab": {}
      },
      "source": [
        "import math\n",
        "\n",
        "def initialize_weights(fan_in, fan_out):\n",
        "  # xavier initialization\n",
        "  return math.sqrt(1 / fan_in) * torch.randn(fan_out, fan_in)\n",
        "\n",
        "def activation(z):\n",
        "  return 1 / (1 + torch.exp(-z))\n",
        "\n",
        "def objective(Y_pred, Y, lam=0, params=None):\n",
        "  epsilon = 1e-8\n",
        "  data_fidelity_term = (-1 / Y.shape[0]) * torch.sum(\n",
        "      Y * torch.log(Y_pred + epsilon) + (1 - Y) * torch.log(1 - Y_pred + epsilon)\n",
        "  )\n",
        "\n",
        "  decay_term = 0\n",
        "  if lam is not 0:\n",
        "    num_of_params = 0   # n\n",
        "    sum_of_params = 0   # sigma theta^2\n",
        "    for param in params.values():\n",
        "      num_of_params += param.shape[0] * param.shape[1]\n",
        "      sum_of_params += torch.sum(param ** 2)\n",
        "\n",
        "    decay_term = (lam / (2 * num_of_params)) * sum_of_params\n",
        "\n",
        "  return data_fidelity_term + decay_term\n",
        "\n",
        "def accuracy(Y_pred, Y):\n",
        "  answer_Y_pred = torch.argmax(Y_pred, axis=1)\n",
        "  answer_Y = torch.argmax(Y, axis=1)\n",
        "  return torch.mean((answer_Y_pred == answer_Y).float())\n",
        "\n",
        "\n",
        "class FNN:\n",
        "  def __init__(self, layer_size_list):\n",
        "    self.num_of_layer = len(layer_size_list) - 1\n",
        "    self.params = dict()\n",
        "\n",
        "    # initialize params w and b (w is weights and b is biases)\n",
        "    for i in range(len(layer_size_list) - 1):\n",
        "      fan_in = layer_size_list[i]\n",
        "      fan_out = layer_size_list[i + 1]\n",
        "\n",
        "      self.params['w' + str(i + 1)] = initialize_weights(fan_in, fan_out).double().to(device)\n",
        "      self.params['b' + str(i + 1)] = torch.zeros(1, fan_out).double().to(device)\n",
        "\n",
        "  def forward(self, X):\n",
        "    forward_results = dict()\n",
        "    forward_results['a0'] = X\n",
        "\n",
        "    # z is fully connected layer's result and\n",
        "    # a is activation function's result\n",
        "    for i in range(self.num_of_layer):\n",
        "      prev_a = forward_results['a' + str(i)]\n",
        "      curr_w = self.params['w' + str(i + 1)]\n",
        "      curr_b = self.params['b' + str(i + 1)]\n",
        "\n",
        "      forward_results['z' + str(i + 1)] = torch.matmul(prev_a, curr_w.T) + curr_b\n",
        "      forward_results['a' + str(i + 1)] = activation(forward_results['z' + str(i + 1)])\n",
        "\n",
        "    forward_results['Y_pred'] = forward_results['a' + str(self.num_of_layer)]\n",
        "\n",
        "    return forward_results\n",
        "\n",
        "  def backward(self, X, Y, forward_results, lam=0):\n",
        "    grads = dict()\n",
        "\n",
        "    dz_last = (forward_results['a' + str(self.num_of_layer)] - Y) / X.shape[0]\n",
        "\n",
        "    # reverse order because of `back`ward propagation\n",
        "    for i in range(self.num_of_layer)[::-1]:\n",
        "      curr_a = forward_results['a' + str(i + 1)]\n",
        "      next_a = forward_results['a' + str(i)]\n",
        "\n",
        "      if i == (self.num_of_layer - 1):  # if last layer\n",
        "        grads['z' + str(i + 1)] = (curr_a - Y) / X.shape[0]\n",
        "      else:\n",
        "        prev_dz = grads['z' + str(i + 2)]\n",
        "        prev_w = self.params['w' + str(i + 2)]\n",
        "\n",
        "        grads['a' + str(i + 1)] = torch.matmul(prev_dz, prev_w)\n",
        "        grads['z' + str(i + 1)] = curr_a * (1 - curr_a) * grads['a' + str(i + 1)]\n",
        "\n",
        "      grads['w' + str(i + 1)] = torch.matmul(grads['z' + str(i + 1)].T, next_a)\n",
        "      grads['b' + str(i + 1)] = torch.sum(grads['z' + str(i + 1)], axis=0).reshape(1, -1)\n",
        "\n",
        "    # remain only the gradients of w and b\n",
        "    for key in list(grads.keys()):\n",
        "      if key.startswith('z') or key.startswith('a'):\n",
        "        del grads[key]\n",
        "\n",
        "    # apply gradients of decay term\n",
        "    if lam is not 0:\n",
        "      n = 0\n",
        "      for param in self.params.values():\n",
        "        n += param.shape[0] * param.shape[1]\n",
        "\n",
        "      for key in grads.keys():\n",
        "        grads[key] += (lam / n) * self.params[key]\n",
        "\n",
        "    return grads"
      ],
      "execution_count": 0,
      "outputs": []
    },
    {
      "cell_type": "markdown",
      "metadata": {
        "id": "pLZi6wA1814y",
        "colab_type": "text"
      },
      "source": [
        "## 4. Learning with the gradient descent algorithm\n"
      ]
    },
    {
      "cell_type": "code",
      "metadata": {
        "id": "EWCTHH9q8218",
        "colab_type": "code",
        "colab": {
          "base_uri": "https://localhost:8080/",
          "height": 119
        },
        "outputId": "e1c08c3a-e074-42d8-feb5-4c4617ee6ae3"
      },
      "source": [
        "def fit_fnn(lr, lam, epoch_count, layer_size_list):\n",
        "  history = {\n",
        "    'train_loss': [],\n",
        "    'test_loss': [],\n",
        "    'train_acc': [],\n",
        "    'test_acc': []\n",
        "  }\n",
        "\n",
        "  fnn = FNN(layer_size_list)\n",
        "\n",
        "  for epoch in range(epoch_count):\n",
        "    # forward propagation using train data\n",
        "    train_forward_results = fnn.forward(X_train)\n",
        "\n",
        "    # calculate training loss and accuracy\n",
        "    Y_train_pred = train_forward_results['Y_pred']\n",
        "    train_loss = objective(Y_train_pred, Y_train, lam, fnn.params)\n",
        "    train_acc = accuracy(Y_train_pred, Y_train)\n",
        "\n",
        "    # forward propagation using test data\n",
        "    test_forward_results = fnn.forward(X_test)\n",
        "\n",
        "    # calculate testing loss and accuracy\n",
        "    Y_test_pred = test_forward_results['Y_pred']\n",
        "    test_loss = objective(Y_test_pred, Y_test, lam, fnn.params)\n",
        "    test_acc = accuracy(Y_test_pred, Y_test)\n",
        "\n",
        "    # log history\n",
        "    history['train_loss'].append(train_loss.item())\n",
        "    history['test_loss'].append(test_loss.item())\n",
        "    history['train_acc'].append(train_acc.item())\n",
        "    history['test_acc'].append(test_acc.item())\n",
        "\n",
        "    # gradient descent\n",
        "    grads = fnn.backward(X_train, Y_train, train_forward_results, lam)\n",
        "    for key in fnn.params.keys():\n",
        "      fnn.params[key] -= lr * grads[key]\n",
        "\n",
        "  # convert each history list to numpy array\n",
        "  for key in history.keys():\n",
        "    history[key] = np.array(history[key])\n",
        "\n",
        "  return history, fnn\n",
        "\n",
        "results = [\n",
        "  fit_fnn(0.7, 0, 3000, (784, 50, 100, 10)),\n",
        "  fit_fnn(0.7, 200, 3000, (784, 100, 400, 10)),\n",
        "  fit_fnn(0.7, 200, 3000, (784, 100, 400, 10)),\n",
        "  fit_fnn(0.7, 200, 3000, (784, 100, 400, 10)),\n",
        "  fit_fnn(0.7, 200, 3000, (784, 100, 400, 10)),\n",
        "  fit_fnn(0.7, 200, 3000, (784, 100, 400, 10)),\n",
        "  fit_fnn(0.7, 200, 3000, (784, 100, 400, 10)),\n",
        "  fit_fnn(0.7, 200, 3000, (784, 100, 400, 10)),\n",
        "  fit_fnn(0.7, 200, 3000, (784, 100, 400, 10)),\n",
        "  fit_fnn(0.7, 200, 3000, (784, 100, 400, 10))\n",
        "]\n",
        "\n",
        "for result in results:\n",
        "  curr_history = result[0]\n",
        "  curr_fnn = result[1]\n",
        "\n",
        "  print(f'train acc: {curr_history[\"train_acc\"][-1] * 100}')\n",
        "  print(f'test acc: {curr_history[\"test_acc\"][-1] * 100}')\n",
        "  print('=======')"
      ],
      "execution_count": 504,
      "outputs": [
        {
          "output_type": "stream",
          "text": [
            "train acc: 100.0\n",
            "test acc: 88.54444622993469\n",
            "=======\n",
            "train acc: 100.0\n",
            "test acc: 88.2111132144928\n",
            "=======\n"
          ],
          "name": "stdout"
        }
      ]
    },
    {
      "cell_type": "code",
      "metadata": {
        "id": "bneSkyqG1cOM",
        "colab_type": "code",
        "colab": {}
      },
      "source": [
        "curr_result = results[1]\n",
        "history = curr_result[0]\n",
        "fnn = curr_result[1]"
      ],
      "execution_count": 0,
      "outputs": []
    },
    {
      "cell_type": "markdown",
      "metadata": {
        "id": "E5tHzlCG-nsp",
        "colab_type": "text"
      },
      "source": [
        "## 5. Prepare classification example"
      ]
    },
    {
      "cell_type": "code",
      "metadata": {
        "id": "wdUIqGiA-oLP",
        "colab_type": "code",
        "colab": {}
      },
      "source": [
        "Y_test_pred = fnn.forward(X_test)['Y_pred']\n",
        "answer_Y_test_pred = torch.argmax(Y_test_pred, axis=1)\n",
        "answer_Y_test = torch.argmax(Y_test, axis=1)\n",
        "\n",
        "# compare predicted labels with real labels\n",
        "correct_mask = answer_Y_test_pred == answer_Y_test\n",
        "mis_mask = answer_Y_test_pred != answer_Y_test\n",
        "\n",
        "# seperate correctly classificed images from misclassified images in the testing image set\n",
        "correct_images = X_test[correct_mask]\n",
        "correct_labels = answer_Y_test_pred[correct_mask]\n",
        "mis_images = X_test[mis_mask]\n",
        "mis_labels = answer_Y_test_pred[mis_mask]\n",
        "\n",
        "# randomly choice 10 images each of them\n",
        "random_indices_for_correct = torch.randperm(correct_images.shape[0])[:10]\n",
        "random_indices_for_mis = torch.randperm(mis_images.shape[0])[:10]\n",
        "\n",
        "correct_images = correct_images[random_indices_for_correct]\n",
        "correct_labels = correct_labels[random_indices_for_correct]\n",
        "mis_images = mis_images[random_indices_for_mis]\n",
        "mis_labels = mis_labels[random_indices_for_mis]"
      ],
      "execution_count": 0,
      "outputs": []
    },
    {
      "cell_type": "markdown",
      "metadata": {
        "id": "2Df5qj21-qVC",
        "colab_type": "text"
      },
      "source": [
        "## 6. Results\n"
      ]
    },
    {
      "cell_type": "markdown",
      "metadata": {
        "id": "eizMQOX--r18",
        "colab_type": "text"
      },
      "source": [
        "### 6-1. Plot the loss curve"
      ]
    },
    {
      "cell_type": "code",
      "metadata": {
        "id": "JixV9ghm-vlw",
        "colab_type": "code",
        "colab": {
          "base_uri": "https://localhost:8080/",
          "height": 513
        },
        "outputId": "148d53fe-0fd8-4499-a064-16ee24f1f561"
      },
      "source": [
        "import matplotlib.pyplot as plt\n",
        "\n",
        "epoch_tick = np.arange(epoch_count)\n",
        "\n",
        "plt.figure(figsize=(12, 8))\n",
        "plt.title('Loss curve')\n",
        "plt.plot(epoch_tick, history['train_loss'], 'b-', linewidth=5)\n",
        "plt.plot(epoch_tick, history['test_loss'], 'r-', linewidth=5)\n",
        "plt.legend(['training loss', 'testing loss'], fontsize='x-large', loc='upper right')\n",
        "plt.xlabel('epoch')\n",
        "plt.ylabel('loss')\n",
        "plt.show()"
      ],
      "execution_count": 508,
      "outputs": [
        {
          "output_type": "display_data",
          "data": {
            "image/png": "[encoded data removed]",
            "text/plain": [
              "<Figure size 864x576 with 1 Axes>"
            ]
          },
          "metadata": {
            "tags": [],
            "needs_background": "light"
          }
        }
      ]
    },
    {
      "cell_type": "markdown",
      "metadata": {
        "id": "-hSY3YnO-0fo",
        "colab_type": "text"
      },
      "source": [
        "### 6-2. Plot the accuracy curve"
      ]
    },
    {
      "cell_type": "code",
      "metadata": {
        "id": "DOo_Rtpt-y2h",
        "colab_type": "code",
        "colab": {
          "base_uri": "https://localhost:8080/",
          "height": 513
        },
        "outputId": "b42da976-511d-44b2-cb84-714f9f084a58"
      },
      "source": [
        "plt.figure(figsize=(12, 8))\n",
        "plt.title('Accuracy curve')\n",
        "plt.plot(epoch_tick, history['train_acc'] * 100, 'b-', linewidth=5)\n",
        "plt.plot(epoch_tick, history['test_acc'] * 100, 'r-', linewidth=5)\n",
        "plt.legend(['training accuracy', 'testing accuracy'], fontsize='x-large', loc='lower right')\n",
        "plt.xlabel('epoch')\n",
        "plt.ylabel('accuracy')\n",
        "plt.show()"
      ],
      "execution_count": 509,
      "outputs": [
        {
          "output_type": "display_data",
          "data": {
            "image/png": "[encoded data removed]",
            "text/plain": [
              "<Figure size 864x576 with 1 Axes>"
            ]
          },
          "metadata": {
            "tags": [],
            "needs_background": "light"
          }
        }
      ]
    },
    {
      "cell_type": "markdown",
      "metadata": {
        "id": "8xjLp8pT-3gS",
        "colab_type": "text"
      },
      "source": [
        "### 6-3. Plot the accuracy value"
      ]
    },
    {
      "cell_type": "code",
      "metadata": {
        "id": "qRVaOQpp-5bT",
        "colab_type": "code",
        "colab": {
          "base_uri": "https://localhost:8080/",
          "height": 117
        },
        "outputId": "71ac6a35-8e21-44bc-acc9-d10b3e975b98"
      },
      "source": [
        "final_train_acc = round(history['train_acc'][-1] * 100, 6)\n",
        "final_test_acc = round(history['test_acc'][-1] * 100, 6)\n",
        "\n",
        "ax = plt.axes([0, 0, 0.6, 0.3])\n",
        "ax.set_xticks([])\n",
        "ax.set_yticks([])\n",
        "ax.axis('off')\n",
        "plt.text(0.2, 0.7, f'final training accuracy: ${final_train_acc}$%', size=25, color='blue')\n",
        "plt.text(0.2, 0.1, f'final testing accuracy: ${final_test_acc}$%', size=25, color='red')\n",
        "plt.show()"
      ],
      "execution_count": 495,
      "outputs": [
        {
          "output_type": "display_data",
          "data": {
            "image/png": "[encoded data removed]",
            "text/plain": [
              "<Figure size 432x288 with 1 Axes>"
            ]
          },
          "metadata": {
            "tags": []
          }
        }
      ]
    },
    {
      "cell_type": "markdown",
      "metadata": {
        "id": "rlKRp5FZ-7qo",
        "colab_type": "text"
      },
      "source": [
        "### 6-4. Plot the classification example"
      ]
    },
    {
      "cell_type": "markdown",
      "metadata": {
        "id": "hxf45DWR-9T8",
        "colab_type": "text"
      },
      "source": [
        "#### 6-4-1. Correctly classified testing images"
      ]
    },
    {
      "cell_type": "code",
      "metadata": {
        "id": "s4V9mC3r-_Xc",
        "colab_type": "code",
        "colab": {
          "base_uri": "https://localhost:8080/",
          "height": 412
        },
        "outputId": "7cd2b69d-728e-409f-b6e7-70279844982a"
      },
      "source": [
        "plt.figure(figsize=(15, 7))\n",
        "\n",
        "for i in range(10):\n",
        "  plt.subplot(2, 5, i + 1)\n",
        "  plt.title(correct_labels[i].item(), fontsize=30, color='green')\n",
        "  plt.imshow(correct_images[i].reshape(SIZE_ROW, SIZE_COL).to('cpu'), cmap='Greys', interpolation='None')\n",
        "  plt.axis('off')\n",
        "\n",
        "plt.show()"
      ],
      "execution_count": 496,
      "outputs": [
        {
          "output_type": "display_data",
          "data": {
            "image/png": "[encoded data removed]",
            "text/plain": [
              "<Figure size 1080x504 with 10 Axes>"
            ]
          },
          "metadata": {
            "tags": [],
            "needs_background": "light"
          }
        }
      ]
    },
    {
      "cell_type": "markdown",
      "metadata": {
        "id": "VyTXMxfY_Aq3",
        "colab_type": "text"
      },
      "source": [
        "#### 6-4-2. Misclassified testing images"
      ]
    },
    {
      "cell_type": "code",
      "metadata": {
        "id": "wZq-FS-U_C9u",
        "colab_type": "code",
        "colab": {
          "base_uri": "https://localhost:8080/",
          "height": 412
        },
        "outputId": "b8fa80a6-2e97-40fe-d519-e2249134aa27"
      },
      "source": [
        "plt.figure(figsize=(15, 7))\n",
        "\n",
        "for i in range(10):\n",
        "  plt.subplot(2, 5, i + 1)\n",
        "  plt.title(mis_labels[i].item(), fontsize=30, color='tomato')\n",
        "  plt.imshow(mis_images[i].reshape(SIZE_ROW, SIZE_COL).to('cpu'), cmap='Greys', interpolation='None')\n",
        "  plt.axis('off')\n",
        "\n",
        "plt.show()"
      ],
      "execution_count": 497,
      "outputs": [
        {
          "output_type": "display_data",
          "data": {
            "image/png": "[encoded data removed]",
            "text/plain": [
              "<Figure size 1080x504 with 10 Axes>"
            ]
          },
          "metadata": {
            "tags": [],
            "needs_background": "light"
          }
        }
      ]
    }
  ]
}