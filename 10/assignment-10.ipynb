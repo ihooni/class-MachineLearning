{
  "nbformat": 4,
  "nbformat_minor": 0,
  "metadata": {
    "colab": {
      "name": "assignment-10.ipynb",
      "provenance": [],
      "collapsed_sections": [],
      "mount_file_id": "131BCnhVcBXNWAArrOS5PJ3Jbh6TZq3qO",
      "authorship_tag": "ABX9TyPZmfj55nisWzJrwyJ4frmS"
    },
    "kernelspec": {
      "name": "python3",
      "display_name": "Python 3"
    },
    "accelerator": "GPU"
  },
  "cells": [
    {
      "cell_type": "markdown",
      "metadata": {
        "id": "QPTs6NGvh0pk",
        "colab_type": "text"
      },
      "source": [
        "## 1. Load data from file"
      ]
    },
    {
      "cell_type": "code",
      "metadata": {
        "id": "5embDCreh1H9",
        "colab_type": "code",
        "colab": {}
      },
      "source": [
        "import numpy as np\n",
        "import torch\n",
        "\n",
        "# Device configuration\n",
        "device = torch.device('cuda' if torch.cuda.is_available() else 'cpu')\n",
        "\n",
        "DATA_PATH = './mnist.csv'\n",
        "SIZE_ROW = 28\n",
        "SIZE_COL = 28\n",
        "\n",
        "# load data from file\n",
        "data = torch.from_numpy(\n",
        "    np.genfromtxt(DATA_PATH, delimiter=',')\n",
        ")\n",
        "\n",
        "# separate pixel values from labels\n",
        "X_raw = data[:, 1:]\n",
        "Y_raw = data[:, 0]"
      ],
      "execution_count": 0,
      "outputs": []
    },
    {
      "cell_type": "markdown",
      "metadata": {
        "id": "4lVNcpk7h7QJ",
        "colab_type": "text"
      },
      "source": [
        "## 2. Data preprocessing"
      ]
    },
    {
      "cell_type": "code",
      "metadata": {
        "id": "QUlQaemTh8zd",
        "colab_type": "code",
        "colab": {}
      },
      "source": [
        "# normalize X data\n",
        "X_data = (X_raw - torch.min(X_raw)) / (torch.max(X_raw) - torch.min(X_raw))\n",
        "\n",
        "# one-hot encoding Y data\n",
        "Y_data = Y_raw.to(torch.long)\n",
        "Y_data = torch.eye(torch.unique(Y_data).shape[0])[Y_data]\n",
        "\n",
        "# train data\n",
        "X_train = X_data[:1000].to(device)\n",
        "Y_train = Y_data[:1000].to(device)\n",
        "\n",
        "# test data\n",
        "X_test = X_data[1000:].to(device)\n",
        "Y_test = Y_data[1000:].to(device)"
      ],
      "execution_count": 0,
      "outputs": []
    }
  ]
}