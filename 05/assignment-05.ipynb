{
  "nbformat": 4,
  "nbformat_minor": 0,
  "metadata": {
    "colab": {
      "name": "assignment-05.ipynb",
      "provenance": [],
      "collapsed_sections": [],
      "toc_visible": true,
      "mount_file_id": "1hKHQ7jV1uM0HYOkDsVGt-SJC1FjSidT_",
      "authorship_tag": "ABX9TyN/kXjvutfiyOfkt6pcpuat"
    },
    "kernelspec": {
      "name": "python3",
      "display_name": "Python 3"
    },
    "accelerator": "GPU"
  },
  "cells": [
    {
      "cell_type": "markdown",
      "metadata": {
        "id": "E0FgFyxr-TH0",
        "colab_type": "text"
      },
      "source": [
        "### 1. Load data from file"
      ]
    },
    {
      "cell_type": "code",
      "metadata": {
        "id": "LBzwfk5X-Tc8",
        "colab_type": "code",
        "colab": {}
      },
      "source": [
        "import numpy as np\n",
        "\n",
        "DATA_PATH = './data.txt'\n",
        "\n",
        "# load data from file\n",
        "data = np.genfromtxt(DATA_PATH, delimiter=',')\n",
        "\n",
        "# separate features from labels\n",
        "X_data = data[:, 0:-1]\n",
        "Y_data = data[:, -1].reshape(-1, 1)\n",
        "\n",
        "m = len(X_data)"
      ],
      "execution_count": 0,
      "outputs": []
    },
    {
      "cell_type": "markdown",
      "metadata": {
        "id": "5NvYeevU-pTX",
        "colab_type": "text"
      },
      "source": [
        "### 2. Define functions for logistic regression\n",
        "\n"
      ]
    },
    {
      "cell_type": "code",
      "metadata": {
        "id": "KQLy6yUC-puz",
        "colab_type": "code",
        "colab": {}
      },
      "source": [
        "def logistic(theta, X):\n",
        "  temp_x = np.concatenate((np.ones((m, 1)), X), axis=1)\n",
        "  z = np.matmul(temp_x, theta.T)\n",
        "  Y_hat = 1 / (1 + np.exp(-z))\n",
        "  return Y_hat\n",
        "\n",
        "def objective(Y_hat, Y):\n",
        "  epsilon = 1e-8\n",
        "  return (-1 / m) * np.sum(\n",
        "      Y * np.log(Y_hat + epsilon) + (1 - Y) * np.log(1 - Y_hat + epsilon), axis=0\n",
        "  )\n",
        "\n",
        "def gradient(X, Y_hat, Y):\n",
        "  temp_x = np.concatenate((np.ones((m, 1)), X), axis=1)\n",
        "  return (1 / m) * np.matmul((Y_hat - Y).T, temp_x)"
      ],
      "execution_count": 0,
      "outputs": []
    },
    {
      "cell_type": "markdown",
      "metadata": {
        "id": "IHxEohAZ-zZq",
        "colab_type": "text"
      },
      "source": [
        "### 3. Learning with the gradient descent algorithm\n"
      ]
    },
    {
      "cell_type": "code",
      "metadata": {
        "id": "D1CymY-f-z_s",
        "colab_type": "code",
        "colab": {}
      },
      "source": [
        "theta = np.zeros((1, X_data.shape[1] + 1))\n",
        "lr = 0.001\n",
        "epoch_count = 20000000\n",
        "\n",
        "history = {\n",
        "    'theta': np.zeros((epoch_count, theta.shape[1])),\n",
        "    'train_err': np.zeros(epoch_count)\n",
        "}\n",
        "\n",
        "for epoch in range(epoch_count):\n",
        "  # calculate training error\n",
        "  Y_hat = logistic(theta, X_data)\n",
        "  train_err = objective(Y_hat, Y_data)\n",
        "\n",
        "  # log history\n",
        "  history['theta'][epoch] = np.squeeze(theta)\n",
        "  history['train_err'][epoch] = train_err\n",
        "\n",
        "  # gradient descent\n",
        "  grad_theta = gradient(X_data, Y_hat, Y_data)\n",
        "  theta -= lr * grad_theta"
      ],
      "execution_count": 0,
      "outputs": []
    },
    {
      "cell_type": "markdown",
      "metadata": {
        "id": "TKdO7lHT_FrV",
        "colab_type": "text"
      },
      "source": [
        "### 4. Plot the results\n"
      ]
    },
    {
      "cell_type": "markdown",
      "metadata": {
        "id": "TQDjlra5_Wrc",
        "colab_type": "text"
      },
      "source": [
        "4-1. Training data"
      ]
    },
    {
      "cell_type": "code",
      "metadata": {
        "id": "m48XegxJ_Mbc",
        "colab_type": "code",
        "colab": {
          "base_uri": "https://localhost:8080/",
          "height": 499
        },
        "outputId": "ce72b9cd-da42-428f-8b6b-b5d8cb7b5176"
      },
      "source": [
        "import matplotlib.pyplot as plt\n",
        "\n",
        "epoch_tick = np.arange(epoch_count)\n",
        "\n",
        "X_label0 = X_data[np.squeeze(Y_data) == 0]\n",
        "X_label1 = X_data[np.squeeze(Y_data) == 1]\n",
        "\n",
        "plt.figure(figsize=(8, 8))\n",
        "plt.title('Training data')\n",
        "plt.scatter(X_label0[:, 0], X_label0[:, 1], alpha=0.5, c='b')\n",
        "plt.scatter(X_label1[:, 0], X_label1[:, 1], alpha=0.5, c='r')\n",
        "plt.show()"
      ],
      "execution_count": 11,
      "outputs": [
        {
          "output_type": "display_data",
          "data": {
            "image/png": "[encoded data removed]",
            "text/plain": [
              "<Figure size 576x576 with 1 Axes>"
            ]
          },
          "metadata": {
            "tags": [],
            "needs_background": "light"
          }
        }
      ]
    },
    {
      "cell_type": "markdown",
      "metadata": {
        "id": "De8_r_2fJfvp",
        "colab_type": "text"
      },
      "source": [
        "4-2. Estimated parameters"
      ]
    },
    {
      "cell_type": "code",
      "metadata": {
        "id": "eNLe8FDvJh0-",
        "colab_type": "code",
        "colab": {
          "base_uri": "https://localhost:8080/",
          "height": 513
        },
        "outputId": "0e92be14-85ca-4d89-e132-27c1cf5bd9cf"
      },
      "source": [
        "plt.figure(figsize=(12, 8))\n",
        "plt.title('Estimated parameters')\n",
        "plt.scatter(epoch_tick, history['theta'][:, 0], c='r', s=10)\n",
        "plt.scatter(epoch_tick, history['theta'][:, 1], c='g', s=10)\n",
        "plt.scatter(epoch_tick, history['theta'][:, 2], c='b', s=10)\n",
        "plt.legend(['$\\Theta_0$', '$\\Theta_1$', '$\\Theta_2$'], fontsize='x-large', loc='lower left')\n",
        "plt.xlabel('epoch')\n",
        "plt.ylabel('scale')\n",
        "plt.show()"
      ],
      "execution_count": 12,
      "outputs": [
        {
          "output_type": "display_data",
          "data": {
            "image/png": "[encoded data removed]",
            "text/plain": [
              "<Figure size 864x576 with 1 Axes>"
            ]
          },
          "metadata": {
            "tags": [],
            "needs_background": "light"
          }
        }
      ]
    },
    {
      "cell_type": "markdown",
      "metadata": {
        "id": "EKieTT_gKAJi",
        "colab_type": "text"
      },
      "source": [
        "4-3. Training error"
      ]
    },
    {
      "cell_type": "code",
      "metadata": {
        "id": "L4_0SudFKC-r",
        "colab_type": "code",
        "colab": {
          "base_uri": "https://localhost:8080/",
          "height": 513
        },
        "outputId": "debca48b-ae62-45c8-f158-e12befe49eca"
      },
      "source": [
        "plt.figure(figsize=(12, 8))\n",
        "plt.title('Training error')\n",
        "plt.scatter(epoch_tick, history['train_err'], c='b', s=10)\n",
        "plt.xlabel('epoch')\n",
        "plt.ylabel('error')\n",
        "plt.show()"
      ],
      "execution_count": 13,
      "outputs": [
        {
          "output_type": "display_data",
          "data": {
            "image/png": "[encoded data removed]",
            "text/plain": [
              "<Figure size 864x576 with 1 Axes>"
            ]
          },
          "metadata": {
            "tags": [],
            "needs_background": "light"
          }
        }
      ]
    }
  ]
}