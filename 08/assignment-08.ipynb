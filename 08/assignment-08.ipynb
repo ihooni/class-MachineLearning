{
  "nbformat": 4,
  "nbformat_minor": 0,
  "metadata": {
    "colab": {
      "name": "assignment-08.ipynb",
      "provenance": [],
      "collapsed_sections": [],
      "mount_file_id": "11WrC9PnWd23yz2j3LhlqMVmIB5Ps8VDa",
      "authorship_tag": "ABX9TyNixwJ9dRPq2VdTXJIhuZ12"
    },
    "kernelspec": {
      "name": "python3",
      "display_name": "Python 3"
    }
  },
  "cells": [
    {
      "cell_type": "markdown",
      "metadata": {
        "id": "uITTirRBfFIu",
        "colab_type": "text"
      },
      "source": [
        "## 1. Load data from file"
      ]
    },
    {
      "cell_type": "code",
      "metadata": {
        "id": "ps7S83n-gGtB",
        "colab_type": "code",
        "colab": {}
      },
      "source": [
        "import numpy as np\n",
        "\n",
        "DATA_PATH = './mnist_test.csv'\n",
        "SIZE_ROW = 28\n",
        "SIZE_COL = 28\n",
        "\n",
        "# load data from file\n",
        "data = np.genfromtxt(DATA_PATH, delimiter=',')\n",
        "\n",
        "# separate pixel values from labels\n",
        "X_data = data[:, 1:]\n",
        "Y_data = data[:, 0].reshape(-1, 1)"
      ],
      "execution_count": 0,
      "outputs": []
    },
    {
      "cell_type": "markdown",
      "metadata": {
        "id": "CWJ-u3vdkRHs",
        "colab_type": "text"
      },
      "source": [
        "## 2. Average Image for Each Digit"
      ]
    },
    {
      "cell_type": "code",
      "metadata": {
        "id": "QFw4LopckQim",
        "colab_type": "code",
        "colab": {}
      },
      "source": [
        "# extract mask for each label\n",
        "X_masks = []\n",
        "for digit in range(10):\n",
        "  X_masks.append(np.squeeze(Y_data) == digit)\n",
        "\n",
        "# average images for each label\n",
        "X_avgs = []\n",
        "for X_mask in X_masks:\n",
        "  X_avgs.append(np.mean(X_data[X_mask], axis=0))"
      ],
      "execution_count": 0,
      "outputs": []
    },
    {
      "cell_type": "markdown",
      "metadata": {
        "id": "snEXAuAUmXa0",
        "colab_type": "text"
      },
      "source": [
        "## 3. Forward Propagation with Random Weights"
      ]
    },
    {
      "cell_type": "code",
      "metadata": {
        "id": "xMw4P05fmaUI",
        "colab_type": "code",
        "colab": {}
      },
      "source": [
        "def neural_network(X):\n",
        "  weights = np.random.randn(1, X.shape[1])\n",
        "  y = np.matmul(X, weights.T)\n",
        "  y = np.clip(y, -500, 500) # prevent exp overflow\n",
        "  z = 1 / (1 + np.exp(-y))\n",
        "  return z\n",
        "\n",
        "output = neural_network(X_data)\n",
        "\n",
        "# average outputs for each label\n",
        "X_output_avgs = []\n",
        "for X_mask in X_masks:\n",
        "  X_output_avgs.append(np.mean(output[X_mask]))"
      ],
      "execution_count": 0,
      "outputs": []
    },
    {
      "cell_type": "markdown",
      "metadata": {
        "id": "wfvpe1lJuTVQ",
        "colab_type": "text"
      },
      "source": [
        "## 4. Results"
      ]
    },
    {
      "cell_type": "markdown",
      "metadata": {
        "id": "Y6ZIvA38uUoZ",
        "colab_type": "text"
      },
      "source": [
        "### 4-1. Plot the average image"
      ]
    },
    {
      "cell_type": "code",
      "metadata": {
        "id": "m4ZExlEbuYPi",
        "colab_type": "code",
        "colab": {
          "base_uri": "https://localhost:8080/",
          "height": 412
        },
        "outputId": "21f641ff-047c-4add-f355-c4a2b0d56378"
      },
      "source": [
        "import matplotlib.pyplot as plt\n",
        "\n",
        "plt.figure(figsize=(15, 7))\n",
        "\n",
        "for digit, X_avg in enumerate(X_avgs):\n",
        "  plt.subplot(2, 5, digit + 1)\n",
        "  plt.title(digit, fontsize=30)\n",
        "  plt.imshow(X_avg.reshape(SIZE_ROW, SIZE_COL), cmap='Greys', interpolation='None')\n",
        "  plt.axis('off')\n",
        "\n",
        "plt.show()"
      ],
      "execution_count": 76,
      "outputs": [
        {
          "output_type": "display_data",
          "data": {
            "image/png": "[encoded data removed]",
            "text/plain": [
              "<Figure size 1080x504 with 10 Axes>"
            ]
          },
          "metadata": {
            "tags": [],
            "needs_background": "light"
          }
        }
      ]
    }
  ]
}