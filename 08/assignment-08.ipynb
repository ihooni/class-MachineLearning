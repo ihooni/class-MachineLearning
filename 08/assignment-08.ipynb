{
  "nbformat": 4,
  "nbformat_minor": 0,
  "metadata": {
    "colab": {
      "name": "assignment-08.ipynb",
      "provenance": [],
      "collapsed_sections": [],
      "mount_file_id": "11WrC9PnWd23yz2j3LhlqMVmIB5Ps8VDa",
      "authorship_tag": "ABX9TyOcvR/ogeVmc5YTu1Nel+yE"
    },
    "kernelspec": {
      "name": "python3",
      "display_name": "Python 3"
    }
  },
  "cells": [
    {
      "cell_type": "markdown",
      "metadata": {
        "id": "uITTirRBfFIu",
        "colab_type": "text"
      },
      "source": [
        "## 1. Load data from file"
      ]
    },
    {
      "cell_type": "code",
      "metadata": {
        "id": "ps7S83n-gGtB",
        "colab_type": "code",
        "colab": {}
      },
      "source": [
        "import numpy as np\n",
        "\n",
        "DATA_PATH = './mnist_test.csv'\n",
        "SIZE_ROW = 28\n",
        "SIZE_COL = 28\n",
        "\n",
        "# load data from file\n",
        "data = np.genfromtxt(DATA_PATH, delimiter=',')\n",
        "\n",
        "# separate pixel values from labels\n",
        "X_data = data[:, 1:]\n",
        "Y_data = data[:, 0].reshape(-1, 1)"
      ],
      "execution_count": 0,
      "outputs": []
    },
    {
      "cell_type": "markdown",
      "metadata": {
        "id": "CWJ-u3vdkRHs",
        "colab_type": "text"
      },
      "source": [
        "## 2. Average Image for Each Digit"
      ]
    },
    {
      "cell_type": "code",
      "metadata": {
        "id": "QFw4LopckQim",
        "colab_type": "code",
        "colab": {}
      },
      "source": [
        "# extract mask for each label\n",
        "X_masks = []\n",
        "for digit in range(10):\n",
        "  X_masks.append(np.squeeze(Y_data) == digit)\n",
        "\n",
        "# average images for each label\n",
        "X_avgs = []\n",
        "for X_mask in X_masks:\n",
        "  X_avgs.append(np.mean(X_data[X_mask], axis=0))"
      ],
      "execution_count": 0,
      "outputs": []
    },
    {
      "cell_type": "markdown",
      "metadata": {
        "id": "snEXAuAUmXa0",
        "colab_type": "text"
      },
      "source": [
        "## 3. Forward Propagation with Random Weights"
      ]
    },
    {
      "cell_type": "code",
      "metadata": {
        "id": "xMw4P05fmaUI",
        "colab_type": "code",
        "colab": {}
      },
      "source": [
        "def neural_network(X):\n",
        "  weights = np.random.randn(1, X.shape[1])\n",
        "  y = np.matmul(X, weights.T)\n",
        "  y = np.clip(y, -500, 500) # prevent exp overflow\n",
        "  z = 1 / (1 + np.exp(-y))\n",
        "  return z\n",
        "\n",
        "output = neural_network(X_data)\n",
        "\n",
        "# average outputs for each label\n",
        "X_output_avgs = []\n",
        "for X_mask in X_masks:\n",
        "  X_output_avgs.append(np.mean(output[X_mask]))"
      ],
      "execution_count": 0,
      "outputs": []
    }
  ]
}