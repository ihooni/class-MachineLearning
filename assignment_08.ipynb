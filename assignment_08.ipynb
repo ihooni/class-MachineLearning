{
  "nbformat": 4,
  "nbformat_minor": 0,
  "metadata": {
    "colab": {
      "name": "assignment-08.ipynb",
      "provenance": [],
      "collapsed_sections": [],
      "mount_file_id": "11WrC9PnWd23yz2j3LhlqMVmIB5Ps8VDa",
      "authorship_tag": "ABX9TyNj7mZouYEAV9KnJ6r1hA29"
    },
    "kernelspec": {
      "name": "python3",
      "display_name": "Python 3"
    }
  },
  "cells": [
    {
      "cell_type": "markdown",
      "metadata": {
        "id": "uITTirRBfFIu",
        "colab_type": "text"
      },
      "source": [
        "## 1. Load data from file"
      ]
    },
    {
      "cell_type": "code",
      "metadata": {
        "id": "ps7S83n-gGtB",
        "colab_type": "code",
        "colab": {}
      },
      "source": [
        "import numpy as np\n",
        "\n",
        "DATA_PATH = './mnist_test.csv'\n",
        "\n",
        "# load data from file\n",
        "data = np.genfromtxt(DATA_PATH, delimiter=',')\n",
        "\n",
        "# separate pixel values from labels\n",
        "X_data = data[:, 1:]\n",
        "Y_data = data[:, 0].reshape(-1, 1)"
      ],
      "execution_count": 0,
      "outputs": []
    },
    {
      "cell_type": "markdown",
      "metadata": {
        "id": "CWJ-u3vdkRHs",
        "colab_type": "text"
      },
      "source": [
        "## 2. Average Image for Each Digit"
      ]
    },
    {
      "cell_type": "code",
      "metadata": {
        "id": "QFw4LopckQim",
        "colab_type": "code",
        "colab": {}
      },
      "source": [
        "# seperate X_data by each label\n",
        "X_labels = []\n",
        "for digit in range(10):\n",
        "  X_labels.append(X_data[np.squeeze(Y_data) == digit])\n",
        "\n",
        "# average image\n",
        "X_avgs = []\n",
        "for X_label in X_labels:\n",
        "  X_avgs.append(np.mean(X_label, axis=0))"
      ],
      "execution_count": 0,
      "outputs": []
    }
  ]
}