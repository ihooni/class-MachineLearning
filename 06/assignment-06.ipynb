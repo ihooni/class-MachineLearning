{
  "nbformat": 4,
  "nbformat_minor": 0,
  "metadata": {
    "colab": {
      "name": "assignment-06.ipynb",
      "provenance": [],
      "collapsed_sections": [],
      "mount_file_id": "1pASv_zLmwefcOCUSgubW9pViVnXavK3w",
      "authorship_tag": "ABX9TyMb3OB8qsvaTbpH2sbZ9EDe"
    },
    "kernelspec": {
      "name": "python3",
      "display_name": "Python 3"
    }
  },
  "cells": [
    {
      "cell_type": "markdown",
      "metadata": {
        "id": "FT5qoVz-98wo",
        "colab_type": "text"
      },
      "source": [
        "### 1. Load data from file"
      ]
    },
    {
      "cell_type": "code",
      "metadata": {
        "id": "Y9thwELZ99wp",
        "colab_type": "code",
        "colab": {}
      },
      "source": [
        "import numpy as np\n",
        "\n",
        "DATA_PATH = './data-nonlinear.txt'\n",
        "\n",
        "# load data from file\n",
        "data = np.genfromtxt(DATA_PATH, delimiter=',')\n",
        "\n",
        "# separate features from labels\n",
        "X_raw = data[:, 0:-1]\n",
        "Y_raw = data[:, -1].reshape(-1, 1)\n",
        "\n",
        "# prepare data for learning\n",
        "X_data = np.concatenate(\n",
        "    (\n",
        "        np.ones((len(X_raw), 1)),                     # 1\n",
        "        X_raw,                                        # x and y\n",
        "        (X_raw[:, 0] * X_raw[:, 1]).reshape(-1, 1),   # xy\n",
        "        X_raw ** 2                                    # x^2 and y^2\n",
        "    ),\n",
        "    axis=1\n",
        ")\n",
        "\n",
        "Y_data = Y_raw"
      ],
      "execution_count": 0,
      "outputs": []
    },
    {
      "cell_type": "markdown",
      "metadata": {
        "id": "28IEHulQCXkA",
        "colab_type": "text"
      },
      "source": [
        "### 2. Define functions for logistic regression"
      ]
    },
    {
      "cell_type": "code",
      "metadata": {
        "id": "ucZKoUCxCYkW",
        "colab_type": "code",
        "colab": {}
      },
      "source": [
        "def logistic(theta, X):\n",
        "  z = np.matmul(X, theta.T)\n",
        "  Y_hat = 1 / (1 + np.exp(-z))\n",
        "  return Y_hat\n",
        "\n",
        "def objective(Y_hat, Y):\n",
        "  epsilon = 1e-8\n",
        "  return -1 * np.mean(\n",
        "      Y * np.log(Y_hat + epsilon) + (1 - Y) * np.log(1 - Y_hat + epsilon), axis=0\n",
        "  )\n",
        "\n",
        "def gradient(X, Y_hat, Y):\n",
        "  m = len(X)\n",
        "  return (1 / m) * np.matmul((Y_hat - Y).T, X)"
      ],
      "execution_count": 0,
      "outputs": []
    }
  ]
}