{
  "nbformat": 4,
  "nbformat_minor": 0,
  "metadata": {
    "colab": {
      "name": "assignment-06.ipynb",
      "provenance": [],
      "collapsed_sections": [],
      "mount_file_id": "1pASv_zLmwefcOCUSgubW9pViVnXavK3w",
      "authorship_tag": "ABX9TyP4V7StwcJcNwyhBoHH1NQQ"
    },
    "kernelspec": {
      "name": "python3",
      "display_name": "Python 3"
    }
  },
  "cells": [
    {
      "cell_type": "markdown",
      "metadata": {
        "id": "FT5qoVz-98wo",
        "colab_type": "text"
      },
      "source": [
        "## 1. Load data from file"
      ]
    },
    {
      "cell_type": "code",
      "metadata": {
        "id": "Y9thwELZ99wp",
        "colab_type": "code",
        "colab": {}
      },
      "source": [
        "import numpy as np\n",
        "\n",
        "DATA_PATH = './data-nonlinear.txt'\n",
        "\n",
        "# load data from file\n",
        "data = np.genfromtxt(DATA_PATH, delimiter=',')\n",
        "\n",
        "# separate features from labels\n",
        "X_raw = data[:, 0:-1]\n",
        "Y_raw = data[:, -1].reshape(-1, 1)\n",
        "\n",
        "# prepare data for learning\n",
        "X_data = np.concatenate(\n",
        "    (\n",
        "        np.ones((len(X_raw), 1)),                     # 1\n",
        "        X_raw,                                        # x and y\n",
        "        (X_raw[:, 0] * X_raw[:, 1]).reshape(-1, 1),   # xy\n",
        "        X_raw ** 2                                    # x^2 and y^2\n",
        "    ),\n",
        "    axis=1\n",
        ")\n",
        "\n",
        "Y_data = Y_raw"
      ],
      "execution_count": 0,
      "outputs": []
    },
    {
      "cell_type": "markdown",
      "metadata": {
        "id": "28IEHulQCXkA",
        "colab_type": "text"
      },
      "source": [
        "## 2. Define functions for logistic regression"
      ]
    },
    {
      "cell_type": "code",
      "metadata": {
        "id": "ucZKoUCxCYkW",
        "colab_type": "code",
        "colab": {}
      },
      "source": [
        "def logistic(theta, X):\n",
        "  z = np.matmul(X, theta.T)\n",
        "  Y_hat = 1 / (1 + np.exp(-z))\n",
        "  return Y_hat\n",
        "\n",
        "def objective(Y_hat, Y):\n",
        "  epsilon = 1e-8\n",
        "  return -1 * np.mean(\n",
        "      Y * np.log(Y_hat + epsilon) + (1 - Y) * np.log(1 - Y_hat + epsilon), axis=0\n",
        "  )\n",
        "\n",
        "def gradient(X, Y_hat, Y):\n",
        "  m = len(X)\n",
        "  return (1 / m) * np.matmul((Y_hat - Y).T, X)"
      ],
      "execution_count": 0,
      "outputs": []
    },
    {
      "cell_type": "markdown",
      "metadata": {
        "id": "vFLfjE7KIdWi",
        "colab_type": "text"
      },
      "source": [
        "## 3. Learning with the gradient descent algorithm\n"
      ]
    },
    {
      "cell_type": "code",
      "metadata": {
        "id": "2W0WvbCHId9m",
        "colab_type": "code",
        "colab": {}
      },
      "source": [
        "theta = np.sqrt(1 / X_data.shape[0]) * np.random.randn(1, X_data.shape[1]) # xavier initialization\n",
        "lr = 0.5\n",
        "epoch_count = 10000\n",
        "\n",
        "history = {\n",
        "    'theta': np.zeros((epoch_count, theta.shape[1])),\n",
        "    'train_err': np.zeros(epoch_count)\n",
        "}\n",
        "\n",
        "for epoch in range(epoch_count):\n",
        "  # calculate training error\n",
        "  Y_hat = logistic(theta, X_data)\n",
        "  train_err = objective(Y_hat, Y_data)\n",
        "\n",
        "  # log history\n",
        "  history['theta'][epoch] = np.squeeze(theta)\n",
        "  history['train_err'][epoch] = train_err\n",
        "\n",
        "  # gradient descent\n",
        "  grad_theta = gradient(X_data, Y_hat, Y_data)\n",
        "  theta -= lr * grad_theta"
      ],
      "execution_count": 0,
      "outputs": []
    },
    {
      "cell_type": "markdown",
      "metadata": {
        "id": "kl-up1zsL9fj",
        "colab_type": "text"
      },
      "source": [
        "## 4. Results\n"
      ]
    },
    {
      "cell_type": "markdown",
      "metadata": {
        "id": "ivObIDs9L-N_",
        "colab_type": "text"
      },
      "source": [
        "### 4-1. Plot the training data"
      ]
    },
    {
      "cell_type": "code",
      "metadata": {
        "id": "QF1s7XssMRMc",
        "colab_type": "code",
        "colab": {
          "base_uri": "https://localhost:8080/",
          "height": 607
        },
        "outputId": "d50bc478-e7d1-4660-f644-95a298a2c23f"
      },
      "source": [
        "import matplotlib.pyplot as plt\n",
        "\n",
        "X_label0 = X_raw[np.squeeze(Y_raw) == 0]\n",
        "X_label1 = X_raw[np.squeeze(Y_raw) == 1]\n",
        "\n",
        "plt.figure(figsize=(10, 10))\n",
        "plt.title('Training data')\n",
        "plt.scatter(X_label0[:, 0], X_label0[:, 1], alpha=0.7, c='b', s=80)\n",
        "plt.scatter(X_label1[:, 0], X_label1[:, 1], alpha=0.7, c='r', s=80)\n",
        "plt.show()"
      ],
      "execution_count": 29,
      "outputs": [
        {
          "output_type": "display_data",
          "data": {
            "image/png": "[encoded data removed]",
            "text/plain": [
              "<Figure size 720x720 with 1 Axes>"
            ]
          },
          "metadata": {
            "tags": [],
            "needs_background": "light"
          }
        }
      ]
    },
    {
      "cell_type": "markdown",
      "metadata": {
        "id": "mbfsSGCXNMbO",
        "colab_type": "text"
      },
      "source": [
        "### 4-2. Write down the high dimensional function $g(x, y; \\theta)$"
      ]
    },
    {
      "cell_type": "markdown",
      "metadata": {
        "id": "VMZy8TovNjjr",
        "colab_type": "text"
      },
      "source": [
        "### 4-3. Plot the training error"
      ]
    },
    {
      "cell_type": "code",
      "metadata": {
        "id": "TolQ0ZcUNtQG",
        "colab_type": "code",
        "colab": {
          "base_uri": "https://localhost:8080/",
          "height": 513
        },
        "outputId": "2d4edcfe-4206-427b-be0c-0dcc7bcd42e6"
      },
      "source": [
        "epoch_tick = np.arange(epoch_count)\n",
        "\n",
        "plt.figure(figsize=(12, 8))\n",
        "plt.title('Training error')\n",
        "plt.scatter(epoch_tick, history['train_err'], c='b', s=10)\n",
        "plt.xlabel('epoch')\n",
        "plt.ylabel('error')\n",
        "plt.show()"
      ],
      "execution_count": 30,
      "outputs": [
        {
          "output_type": "display_data",
          "data": {
            "image/png": "[encoded data removed]",
            "text/plain": [
              "<Figure size 864x576 with 1 Axes>"
            ]
          },
          "metadata": {
            "tags": [],
            "needs_background": "light"
          }
        }
      ]
    }
  ]
}